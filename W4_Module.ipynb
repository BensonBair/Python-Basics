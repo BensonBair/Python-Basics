{
 "cells": [
  {
   "cell_type": "markdown",
   "metadata": {},
   "source": [
    "# 模組(Module)：一個Python程式檔 (*.py)\n",
    "# 資料類型就像單字，陳述式就像是句子，\n",
    "# 函式就像段落，模組就像章節。"
   ]
  },
  {
   "cell_type": "markdown",
   "metadata": {
    "collapsed": true
   },
   "source": [
    "# 匯入模組用 import陳述式: import module\n",
    "# module 是其他的python 檔，不包括.py副檔名。"
   ]
  },
  {
   "cell_type": "code",
   "execution_count": 1,
   "metadata": {
    "collapsed": false
   },
   "outputs": [
    {
     "name": "stdout",
     "output_type": "stream",
     "text": [
      "The Zen of Python, by Tim Peters\n",
      "\n",
      "Beautiful is better than ugly.\n",
      "Explicit is better than implicit.\n",
      "Simple is better than complex.\n",
      "Complex is better than complicated.\n",
      "Flat is better than nested.\n",
      "Sparse is better than dense.\n",
      "Readability counts.\n",
      "Special cases aren't special enough to break the rules.\n",
      "Although practicality beats purity.\n",
      "Errors should never pass silently.\n",
      "Unless explicitly silenced.\n",
      "In the face of ambiguity, refuse the temptation to guess.\n",
      "There should be one-- and preferably only one --obvious way to do it.\n",
      "Although that way may not be obvious at first unless you're Dutch.\n",
      "Now is better than never.\n",
      "Although never is often better than *right* now.\n",
      "If the implementation is hard to explain, it's a bad idea.\n",
      "If the implementation is easy to explain, it may be a good idea.\n",
      "Namespaces are one honking great idea -- let's do more of those!\n"
     ]
    }
   ],
   "source": [
    "import this # Python的詩篇，表達Python的設計哲學。"
   ]
  },
  {
   "cell_type": "code",
   "execution_count": 2,
   "metadata": {
    "collapsed": false
   },
   "outputs": [
    {
     "name": "stdout",
     "output_type": "stream",
     "text": [
      "Today's weather is sun\n"
     ]
    }
   ],
   "source": [
    "import report\n",
    "weather = report.get_description()\n",
    "print(\"Today's weather is\", weather)"
   ]
  },
  {
   "cell_type": "code",
   "execution_count": 3,
   "metadata": {
    "collapsed": false
   },
   "outputs": [
    {
     "name": "stdout",
     "output_type": "stream",
     "text": [
      "A random number is 2\n"
     ]
    }
   ],
   "source": [
    "# import random #如果要匯入的程式可能會在許多地方用到，要在函式外面匯入。\n",
    "def get_desc():\n",
    "    import random #只在有限範圍內使用 \n",
    "    possible = [1, 2, 3, 4, 5]\n",
    "    return random.choice(possible)\n",
    "print(\"A random number is\", get_desc())"
   ]
  },
  {
   "cell_type": "markdown",
   "metadata": {},
   "source": [
    "# 用其他名稱(別名)來匯入模組"
   ]
  },
  {
   "cell_type": "code",
   "execution_count": 4,
   "metadata": {
    "collapsed": false
   },
   "outputs": [
    {
     "name": "stdout",
     "output_type": "stream",
     "text": [
      "Today's weather is sleet\n"
     ]
    }
   ],
   "source": [
    "import report as rt # as 別名。通常是有助記憶或簡短的名稱\n",
    "weather = rt.get_description()\n",
    "print(\"Today's weather is\", weather)"
   ]
  },
  {
   "cell_type": "markdown",
   "metadata": {},
   "source": [
    "# 只匯入模組內想要的部分\n",
    "# 可以選擇匯入模組的一個或多個部分，每一個部分可以保留原本的名稱，也可以給它一個別名 "
   ]
  },
  {
   "cell_type": "code",
   "execution_count": 5,
   "metadata": {
    "collapsed": false
   },
   "outputs": [
    {
     "name": "stdout",
     "output_type": "stream",
     "text": [
      "Today's weather is snow\n"
     ]
    }
   ],
   "source": [
    "from report import get_description\n",
    "weather = get_description()\n",
    "print(\"Today's weather is\", weather)"
   ]
  },
  {
   "cell_type": "code",
   "execution_count": 6,
   "metadata": {
    "collapsed": false
   },
   "outputs": [
    {
     "name": "stdout",
     "output_type": "stream",
     "text": [
      "Today's weather is who knows\n"
     ]
    }
   ],
   "source": [
    "from report import get_description as get_it\n",
    "weather = get_it()\n",
    "print(\"Today's weather is\", weather)"
   ]
  },
  {
   "cell_type": "markdown",
   "metadata": {},
   "source": [
    "# Python會去哪裡找匯入的檔案？\n",
    "# sys標準模組的path變數內的一串目錄名稱串列，以及zip保存檔。"
   ]
  },
  {
   "cell_type": "code",
   "execution_count": 7,
   "metadata": {
    "collapsed": false
   },
   "outputs": [
    {
     "name": "stdout",
     "output_type": "stream",
     "text": [
      "\n",
      "/Users/lunghaolee/anaconda/lib/python36.zip\n",
      "/Users/lunghaolee/anaconda/lib/python3.6\n",
      "/Users/lunghaolee/anaconda/lib/python3.6/lib-dynload\n",
      "/Users/lunghaolee/anaconda/lib/python3.6/site-packages\n",
      "/Users/lunghaolee/anaconda/lib/python3.6/site-packages/Sphinx-1.5.1-py3.6.egg\n",
      "/Users/lunghaolee/anaconda/lib/python3.6/site-packages/aeosa\n",
      "/Users/lunghaolee/anaconda/lib/python3.6/site-packages/setuptools-27.2.0-py3.6.egg\n",
      "/Users/lunghaolee/anaconda/lib/python3.6/site-packages/IPython/extensions\n",
      "/Users/lunghaolee/.ipython\n"
     ]
    }
   ],
   "source": [
    "import sys\n",
    "for place in sys.path:\n",
    "    print(place)\n",
    "# 一開始空白那一行，代表目前的目錄"
   ]
  },
  {
   "cell_type": "markdown",
   "metadata": {},
   "source": [
    "# Python標準程式庫\n",
    "# 寫python程式之前，先檢查是否有標準的模組是值得的\n",
    "# 可靠的模組文件：https://docs.python.org/3/"
   ]
  },
  {
   "cell_type": "markdown",
   "metadata": {},
   "source": [
    "# 用 defaultdict() 來處理遺漏的值"
   ]
  },
  {
   "cell_type": "code",
   "execution_count": 8,
   "metadata": {
    "collapsed": true
   },
   "outputs": [],
   "source": [
    "#在字典被建立時，為任何新鍵指定預設值。\n",
    "#defaultdict()的引數是個函式\n",
    "from collections import defaultdict\n",
    "a_dict = defaultdict(int) # int()回傳預設0，list()回傳空串列{}，dict()回傳空字典{}。省略引數會設為None"
   ]
  },
  {
   "cell_type": "code",
   "execution_count": 9,
   "metadata": {
    "collapsed": true
   },
   "outputs": [],
   "source": [
    "a_dict[\"abc\"] = 1"
   ]
  },
  {
   "cell_type": "code",
   "execution_count": 10,
   "metadata": {
    "collapsed": false
   },
   "outputs": [
    {
     "data": {
      "text/plain": [
       "0"
      ]
     },
     "execution_count": 10,
     "metadata": {},
     "output_type": "execute_result"
    }
   ],
   "source": [
    "a_dict[\"xyz\"]"
   ]
  },
  {
   "cell_type": "code",
   "execution_count": 11,
   "metadata": {
    "collapsed": false
   },
   "outputs": [
    {
     "data": {
      "text/plain": [
       "defaultdict(int, {'abc': 1, 'xyz': 0})"
      ]
     },
     "execution_count": 11,
     "metadata": {},
     "output_type": "execute_result"
    }
   ],
   "source": [
    "a_dict"
   ]
  },
  {
   "cell_type": "code",
   "execution_count": 12,
   "metadata": {
    "collapsed": false
   },
   "outputs": [
    {
     "data": {
      "text/plain": [
       "\"I don't know\""
      ]
     },
     "execution_count": 12,
     "metadata": {},
     "output_type": "execute_result"
    }
   ],
   "source": [
    "b_dict = defaultdict(lambda: \"I don't know\") #用lambda定義預設函式\n",
    "b_dict[\"ccc\"]"
   ]
  },
  {
   "cell_type": "code",
   "execution_count": 13,
   "metadata": {
    "collapsed": false
   },
   "outputs": [
    {
     "name": "stdout",
     "output_type": "stream",
     "text": [
      "spam 2\n",
      "eggs 3\n"
     ]
    }
   ],
   "source": [
    "# int 可以用來製作計數器\n",
    "from collections import defaultdict\n",
    "food_counter = defaultdict(int) #新鍵預設值是0\n",
    "for food in [\"spam\", \"eggs\", \"spam\", \"eggs\", \"eggs\"]:\n",
    "    food_counter[food] +=1\n",
    "for food, count in food_counter.items():\n",
    "    print(food, count)"
   ]
  },
  {
   "cell_type": "markdown",
   "metadata": {},
   "source": [
    "# 用 Counter() 計數器 來計算項目數量"
   ]
  },
  {
   "cell_type": "code",
   "execution_count": 14,
   "metadata": {
    "collapsed": false
   },
   "outputs": [
    {
     "data": {
      "text/plain": [
       "Counter({'blue': 3, 'pink': 2, 'red': 2, 'yellow': 1})"
      ]
     },
     "execution_count": 14,
     "metadata": {},
     "output_type": "execute_result"
    }
   ],
   "source": [
    "from collections import Counter\n",
    "color = [\"red\", \"blue\", \"yellow\", \"blue\", \"blue\", \"red\", \"pink\", \"pink\"]\n",
    "color_counter = Counter(color)\n",
    "color_counter"
   ]
  },
  {
   "cell_type": "code",
   "execution_count": 15,
   "metadata": {
    "collapsed": false
   },
   "outputs": [
    {
     "data": {
      "text/plain": [
       "[('blue', 3), ('red', 2), ('pink', 2), ('yellow', 1)]"
      ]
     },
     "execution_count": 15,
     "metadata": {},
     "output_type": "execute_result"
    }
   ],
   "source": [
    "#most_common 函式會降冪回傳所有元素，指定一個數量時，回傳最前面幾個\n",
    "color_counter.most_common()"
   ]
  },
  {
   "cell_type": "code",
   "execution_count": 16,
   "metadata": {
    "collapsed": false
   },
   "outputs": [
    {
     "data": {
      "text/plain": [
       "[('blue', 3), ('red', 2)]"
      ]
     },
     "execution_count": 16,
     "metadata": {},
     "output_type": "execute_result"
    }
   ],
   "source": [
    "color_counter.most_common(2)"
   ]
  },
  {
   "cell_type": "code",
   "execution_count": 17,
   "metadata": {
    "collapsed": false
   },
   "outputs": [
    {
     "data": {
      "text/plain": [
       "Counter({'blue': 3, 'pink': 2, 'red': 3, 'yellow': 1})"
      ]
     },
     "execution_count": 17,
     "metadata": {},
     "output_type": "execute_result"
    }
   ],
   "source": [
    "#結合計數器可以用運算子 + - &(交集) ｜(聯集)\n",
    "from collections import Counter\n",
    "new_counter = Counter([\"red\", \"red\", \"red\", \"pink\"]) \n",
    "color_counter | new_counter # 聯集不會加總數量，而是選取數量多的項目"
   ]
  },
  {
   "cell_type": "markdown",
   "metadata": {},
   "source": [
    "# 使用 鍵 與 OrderedDict() 來排序"
   ]
  },
  {
   "cell_type": "code",
   "execution_count": 18,
   "metadata": {
    "collapsed": false
   },
   "outputs": [
    {
     "data": {
      "text/plain": [
       "{'Curly': 'Nyuk nyuk!', 'Larry': 'Ow!', 'Moe': 'A wise guy, huh?'}"
      ]
     },
     "execution_count": 18,
     "metadata": {},
     "output_type": "execute_result"
    }
   ],
   "source": [
    "# 字典中的鍵的順序是無法預測的，\n",
    "quotes = {\"Moe\": \"A wise guy, huh?\", \"Larry\": \"Ow!\", \"Curly\": \"Nyuk nyuk!\"}\n",
    "quotes"
   ]
  },
  {
   "cell_type": "code",
   "execution_count": 19,
   "metadata": {
    "collapsed": false
   },
   "outputs": [
    {
     "name": "stdout",
     "output_type": "stream",
     "text": [
      "Moe\n",
      "Larry\n",
      "Curly\n"
     ]
    }
   ],
   "source": [
    "# OrderedDict()會記得加入鍵的順序\n",
    "from collections import OrderedDict\n",
    "quotes = OrderedDict([(\"Moe\", \"A wise guy, huh?\"), (\"Larry\", \"Ow!\"), (\"Curly\", \"Nyuk nyuk!\")])\n",
    "for qt in quotes:\n",
    "    print(qt)"
   ]
  },
  {
   "cell_type": "markdown",
   "metadata": {},
   "source": [
    "# 堆疊 + 序列 == deque\n",
    "# deque是一種雙頭的序列，可以從任何一端加入或刪除項目"
   ]
  },
  {
   "cell_type": "code",
   "execution_count": 5,
   "metadata": {
    "collapsed": false
   },
   "outputs": [],
   "source": [
    "from collections import deque\n",
    "w = deque('racecar')"
   ]
  },
  {
   "cell_type": "code",
   "execution_count": 7,
   "metadata": {
    "collapsed": false
   },
   "outputs": [
    {
     "data": {
      "text/plain": [
       "'r'"
      ]
     },
     "execution_count": 7,
     "metadata": {},
     "output_type": "execute_result"
    }
   ],
   "source": [
    "w.popleft()"
   ]
  },
  {
   "cell_type": "code",
   "execution_count": 6,
   "metadata": {
    "collapsed": false
   },
   "outputs": [
    {
     "data": {
      "text/plain": [
       "7"
      ]
     },
     "execution_count": 6,
     "metadata": {},
     "output_type": "execute_result"
    }
   ],
   "source": [
    "len(w)"
   ]
  },
  {
   "cell_type": "code",
   "execution_count": 20,
   "metadata": {
    "collapsed": true
   },
   "outputs": [],
   "source": [
    "# 檢查是否是回文(palindrome)\n",
    "def palindrome(word):\n",
    "    from collections import deque\n",
    "    dq = deque(word)\n",
    "    while len(dq) > 1:\n",
    "        if dq.popleft() != dq.pop(): # popleft() 將deque最左邊的項目移除並回傳\n",
    "            return False             # pop 將deque最右邊的項目移除並回傳\n",
    "    return True"
   ]
  },
  {
   "cell_type": "code",
   "execution_count": 21,
   "metadata": {
    "collapsed": false
   },
   "outputs": [
    {
     "data": {
      "text/plain": [
       "True"
      ]
     },
     "execution_count": 21,
     "metadata": {},
     "output_type": "execute_result"
    }
   ],
   "source": [
    "palindrome(\"a\")"
   ]
  },
  {
   "cell_type": "code",
   "execution_count": 22,
   "metadata": {
    "collapsed": false
   },
   "outputs": [
    {
     "data": {
      "text/plain": [
       "True"
      ]
     },
     "execution_count": 22,
     "metadata": {},
     "output_type": "execute_result"
    }
   ],
   "source": [
    "palindrome(\"racecar\")"
   ]
  },
  {
   "cell_type": "code",
   "execution_count": 23,
   "metadata": {
    "collapsed": false
   },
   "outputs": [
    {
     "data": {
      "text/plain": [
       "False"
      ]
     },
     "execution_count": 23,
     "metadata": {},
     "output_type": "execute_result"
    }
   ],
   "source": [
    "palindrome(\"sealion\")"
   ]
  },
  {
   "cell_type": "markdown",
   "metadata": {},
   "source": [
    "# 使用 itertools 來迭代程式結構"
   ]
  },
  {
   "cell_type": "code",
   "execution_count": 24,
   "metadata": {
    "collapsed": false
   },
   "outputs": [
    {
     "name": "stdout",
     "output_type": "stream",
     "text": [
      "1\n",
      "2\n",
      "a\n",
      "b\n"
     ]
    }
   ],
   "source": [
    "# chain()函式會逐一經過它的引數，就是可迭代的單一項目\n",
    "import itertools\n",
    "for item in itertools.chain([1, 2], [\"a\", \"b\"]):\n",
    "    print(item)"
   ]
  },
  {
   "cell_type": "code",
   "execution_count": 25,
   "metadata": {
    "collapsed": false
   },
   "outputs": [],
   "source": [
    "# cycle()是一種無限迭代器，會循環經過它的引數\n",
    "#import itertools\n",
    "#for item in itertools.cycle([\".\", \"*\", \"~\"]):\n",
    " #   print(item)"
   ]
  },
  {
   "cell_type": "code",
   "execution_count": 26,
   "metadata": {
    "collapsed": false
   },
   "outputs": [
    {
     "name": "stdout",
     "output_type": "stream",
     "text": [
      "1\n",
      "3\n",
      "6\n",
      "10\n",
      "15\n"
     ]
    }
   ],
   "source": [
    "# accumulate()會計算累計的值。\n",
    "import itertools\n",
    "for item in itertools.accumulate([1, 2, 3, 4, 5]):\n",
    "    print(item)"
   ]
  },
  {
   "cell_type": "code",
   "execution_count": 8,
   "metadata": {
    "collapsed": false
   },
   "outputs": [
    {
     "name": "stdout",
     "output_type": "stream",
     "text": [
      "1\n",
      "2\n",
      "6\n",
      "24\n"
     ]
    }
   ],
   "source": [
    "# accumulate()的第二個引數提供一個函式，用來取代加法\n",
    "# 這個函式必須使用兩個引數，會回傳一個結果\n",
    "def multiply(a, b):\n",
    "    return a*b\n",
    "import itertools\n",
    "for item in itertools.accumulate([1, 2, 3, 4], multiply):\n",
    "    print(item)"
   ]
  },
  {
   "cell_type": "markdown",
   "metadata": {},
   "source": [
    "# 用 pprint() 印出好看的結果"
   ]
  },
  {
   "cell_type": "code",
   "execution_count": 28,
   "metadata": {
    "collapsed": false
   },
   "outputs": [
    {
     "name": "stdout",
     "output_type": "stream",
     "text": [
      "OrderedDict([('Moe', 'A wise guy, huh?'),\n",
      "             ('Larry', 'Ow!'),\n",
      "             ('Curly', 'Nyuk nyuk!')])\n",
      "OrderedDict([('Moe', 'A wise guy, huh?'), ('Larry', 'Ow!'), ('Curly', 'Nyuk nyuk!')])\n"
     ]
    }
   ],
   "source": [
    "from collections import OrderedDict\n",
    "quotes = OrderedDict([(\"Moe\", \"A wise guy, huh?\"), (\"Larry\", \"Ow!\"), (\"Curly\", \"Nyuk nyuk!\")])\n",
    "from pprint import pprint\n",
    "pprint(quotes)\n",
    "print(quotes)"
   ]
  }
 ],
 "metadata": {
  "kernelspec": {
   "display_name": "Python [Root]",
   "language": "python",
   "name": "Python [Root]"
  },
  "language_info": {
   "codemirror_mode": {
    "name": "ipython",
    "version": 3
   },
   "file_extension": ".py",
   "mimetype": "text/x-python",
   "name": "python",
   "nbconvert_exporter": "python",
   "pygments_lexer": "ipython3",
   "version": "3.5.2"
  }
 },
 "nbformat": 4,
 "nbformat_minor": 2
}
