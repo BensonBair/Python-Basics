{
 "cells": [
  {
   "cell_type": "markdown",
   "metadata": {
    "collapsed": true
   },
   "source": [
    "# Ptt實業坊 的 八卦(Gossoping)版 的文章擷取回來並作分析"
   ]
  },
  {
   "cell_type": "markdown",
   "metadata": {},
   "source": [
    "# 截取首頁(最新)的文章頁面"
   ]
  },
  {
   "cell_type": "code",
   "execution_count": 5,
   "metadata": {
    "collapsed": false,
    "scrolled": true
   },
   "outputs": [
    {
     "data": {
      "text/plain": [
       "'<!DOCTYPE html>\\n<html>\\n\\t<head>\\n\\t\\t<meta charset=\"utf-8\">\\n\\t\\t\\n\\n<meta name=\"viewport\" content=\"width=device-width, initial-scale=1\">\\n\\n<title>看板 Gossiping 文章列表 - 批踢踢實業坊</title>\\n\\n<link rel=\"stylesheet\" type=\"text/css\" href=\"//images.ptt.cc/bbs/v2.22/bbs-common.css\">\\n<link rel=\"stylesheet\" type=\"text/css\" href=\"//images.ptt.cc/bbs/v2.22/bbs-base.css\" media=\"screen\">\\n<link rel=\"stylesheet\" type=\"text/css\" href=\"//images.ptt.cc/bbs/v2.22/bbs-custom.css\">\\n<link rel=\"stylesheet\" type=\"text/css\" href=\"//images.ptt.cc/bbs/v2.22/pushstream.css\" media=\"screen\">\\n<link rel=\"stylesheet\" type=\"text/css\" href=\"//images.ptt.cc/bbs/v2.22/bbs-print.css\" media=\"print\">\\n\\n\\n\\n\\n\\t</head>\\n    <body>\\n\\t\\t\\n<div id=\"topbar-container\">\\n\\t<div id=\"topbar\" class=\"bbs-content\">\\n\\t\\t<a id=\"logo\" href=\"/\">批踢踢實業坊</a>\\n\\t\\t<span>&rsaquo;</span>\\n\\t\\t<a class=\"board\" href=\"/bbs/Gossiping/index.html\"><span class=\"board-label\">看板 </span>Gossiping</a>\\n\\t\\t<a class=\"right small\" href=\"/about.html\">關於我們</a>\\n\\t\\t<a class=\"right small\" href=\"/contact.html\">聯絡資訊</a>\\n\\t</div>\\n</div>\\n\\n<div id=\"main-container\">\\n\\t<div id=\"action-bar-container\">\\n\\t\\t<div class=\"action-bar\">\\n\\t\\t\\t<div class=\"btn-group btn-group-dir\">\\n\\t\\t\\t\\t<a class=\"btn selected\" href=\"/bbs/Gossiping/index.html\">看板</a>\\n\\t\\t\\t\\t<a class=\"btn\" href=\"/man/Gossiping/index.html\">精華區</a>\\n\\t\\t\\t</div>\\n\\t\\t\\t<div class=\"btn-group btn-group-paging\">\\n\\t\\t\\t\\t<a class=\"btn wide\" href=\"/bbs/Gossiping/index1.html\">最舊</a>\\n\\t\\t\\t\\t<a class=\"btn wide\" href=\"/bbs/Gossiping/index23046.html\">&lsaquo; 上頁</a>\\n\\t\\t\\t\\t<a class=\"btn wide disabled\">下頁 &rsaquo;</a>\\n\\t\\t\\t\\t<a class=\"btn wide\" href=\"/bbs/Gossiping/index.html\">最新</a>\\n\\t\\t\\t</div>\\n\\t\\t</div>\\n\\t</div>\\n\\n\\t<div class=\"r-list-container action-bar-margin bbs-screen\">\\n\\t\\t\\n\\t\\t\\n            \\n        \\n        \\n\\t\\t<div class=\"r-ent\">\\n\\t\\t\\t<div class=\"nrec\"><span class=\"hl f2\">6</span></div>\\n\\t\\t\\t<div class=\"mark\"></div>\\n\\t\\t\\t<div class=\"title\">\\n\\t\\t\\t\\n\\t\\t\\t\\t<a href=\"/bbs/Gossiping/M.1492694477.A.77C.html\">[新聞] 巨型冰山造訪加拿大小鎮 民眾爭相「看山</a>\\n\\t\\t\\t\\n\\t\\t\\t</div>\\n\\t\\t\\t<div class=\"meta\">\\n\\t\\t\\t\\t<div class=\"date\"> 4/20</div>\\n\\t\\t\\t\\t<div class=\"author\">chenwii</div>\\n\\t\\t\\t</div>\\n\\t\\t</div>\\n\\n\\t\\t\\n            \\n        \\n        \\n\\t\\t<div class=\"r-ent\">\\n\\t\\t\\t<div class=\"nrec\"><span class=\"hl f2\">3</span></div>\\n\\t\\t\\t<div class=\"mark\"></div>\\n\\t\\t\\t<div class=\"title\">\\n\\t\\t\\t\\n\\t\\t\\t\\t<a href=\"/bbs/Gossiping/M.1492694549.A.B04.html\">Re: [新聞] 反年改濺血！軍公教聯盟「抓狂殺人都可</a>\\n\\t\\t\\t\\n\\t\\t\\t</div>\\n\\t\\t\\t<div class=\"meta\">\\n\\t\\t\\t\\t<div class=\"date\"> 4/20</div>\\n\\t\\t\\t\\t<div class=\"author\">violin3316</div>\\n\\t\\t\\t</div>\\n\\t\\t</div>\\n\\n\\t\\t\\n            \\n        \\n        \\n\\t\\t<div class=\"r-ent\">\\n\\t\\t\\t<div class=\"nrec\"><span class=\"hl f2\">1</span></div>\\n\\t\\t\\t<div class=\"mark\"></div>\\n\\t\\t\\t<div class=\"title\">\\n\\t\\t\\t\\n\\t\\t\\t\\t<a href=\"/bbs/Gossiping/M.1492694551.A.852.html\">Re: [新聞] 日本福岡 3億8000萬日圓現金遭搶劫</a>\\n\\t\\t\\t\\n\\t\\t\\t</div>\\n\\t\\t\\t<div class=\"meta\">\\n\\t\\t\\t\\t<div class=\"date\"> 4/20</div>\\n\\t\\t\\t\\t<div class=\"author\">rockon15</div>\\n\\t\\t\\t</div>\\n\\t\\t</div>\\n\\n\\t\\t\\n            \\n        \\n        \\n\\t\\t<div class=\"r-ent\">\\n\\t\\t\\t<div class=\"nrec\"><span class=\"hl f2\">1</span></div>\\n\\t\\t\\t<div class=\"mark\"></div>\\n\\t\\t\\t<div class=\"title\">\\n\\t\\t\\t\\n\\t\\t\\t\\t<a href=\"/bbs/Gossiping/M.1492694561.A.AB7.html\">[問卦] 今年暑假有哪些推薦的大學營隊呢？</a>\\n\\t\\t\\t\\n\\t\\t\\t</div>\\n\\t\\t\\t<div class=\"meta\">\\n\\t\\t\\t\\t<div class=\"date\"> 4/20</div>\\n\\t\\t\\t\\t<div class=\"author\">jimmychung07</div>\\n\\t\\t\\t</div>\\n\\t\\t</div>\\n\\n\\t\\t\\n            \\n        \\n        \\n\\t\\t<div class=\"r-ent\">\\n\\t\\t\\t<div class=\"nrec\"><span class=\"hl f2\">1</span></div>\\n\\t\\t\\t<div class=\"mark\"></div>\\n\\t\\t\\t<div class=\"title\">\\n\\t\\t\\t\\n\\t\\t\\t\\t<a href=\"/bbs/Gossiping/M.1492694592.A.F4C.html\">[ＦＢ] 台灣的義氣-吳敦義粉絲團 突破7萬人</a>\\n\\t\\t\\t\\n\\t\\t\\t</div>\\n\\t\\t\\t<div class=\"meta\">\\n\\t\\t\\t\\t<div class=\"date\"> 4/20</div>\\n\\t\\t\\t\\t<div class=\"author\">LTSC1980</div>\\n\\t\\t\\t</div>\\n\\t\\t</div>\\n\\n\\t\\t\\n            \\n        \\n        \\n\\t\\t<div class=\"r-ent\">\\n\\t\\t\\t<div class=\"nrec\"><span class=\"hl f2\">2</span></div>\\n\\t\\t\\t<div class=\"mark\"></div>\\n\\t\\t\\t<div class=\"title\">\\n\\t\\t\\t\\n\\t\\t\\t\\t<a href=\"/bbs/Gossiping/M.1492694596.A.99F.html\">[問卦] 臉書直播</a>\\n\\t\\t\\t\\n\\t\\t\\t</div>\\n\\t\\t\\t<div class=\"meta\">\\n\\t\\t\\t\\t<div class=\"date\"> 4/20</div>\\n\\t\\t\\t\\t<div class=\"author\">seahi</div>\\n\\t\\t\\t</div>\\n\\t\\t</div>\\n\\n\\t\\t\\n            \\n        \\n        \\n\\t\\t<div class=\"r-ent\">\\n\\t\\t\\t<div class=\"nrec\"><span class=\"hl f2\">5</span></div>\\n\\t\\t\\t<div class=\"mark\"></div>\\n\\t\\t\\t<div class=\"title\">\\n\\t\\t\\t\\n\\t\\t\\t\\t<a href=\"/bbs/Gossiping/M.1492694615.A.D7C.html\">Re: [問卦] 台灣超商炸物跟Lawson比起來廢到笑的卦？</a>\\n\\t\\t\\t\\n\\t\\t\\t</div>\\n\\t\\t\\t<div class=\"meta\">\\n\\t\\t\\t\\t<div class=\"date\"> 4/20</div>\\n\\t\\t\\t\\t<div class=\"author\">kkes50717</div>\\n\\t\\t\\t</div>\\n\\t\\t</div>\\n\\n\\t\\t\\n            \\n        \\n        \\n\\t\\t<div class=\"r-ent\">\\n\\t\\t\\t<div class=\"nrec\"><span class=\"hl f2\">1</span></div>\\n\\t\\t\\t<div class=\"mark\"></div>\\n\\t\\t\\t<div class=\"title\">\\n\\t\\t\\t\\n\\t\\t\\t\\t<a href=\"/bbs/Gossiping/M.1492694620.A.E3F.html\">[問卦] 觀念傳統的窮忙族在想什麼</a>\\n\\t\\t\\t\\n\\t\\t\\t</div>\\n\\t\\t\\t<div class=\"meta\">\\n\\t\\t\\t\\t<div class=\"date\"> 4/20</div>\\n\\t\\t\\t\\t<div class=\"author\">dxoxb</div>\\n\\t\\t\\t</div>\\n\\t\\t</div>\\n\\n\\t\\t\\n            \\n        \\n        \\n\\t\\t<div class=\"r-ent\">\\n\\t\\t\\t<div class=\"nrec\"><span class=\"hl f2\">1</span></div>\\n\\t\\t\\t<div class=\"mark\"></div>\\n\\t\\t\\t<div class=\"title\">\\n\\t\\t\\t\\n\\t\\t\\t\\t<a href=\"/bbs/Gossiping/M.1492694643.A.59A.html\">Re: [ＦＢ] 退休師：沒錢到美國玩15天</a>\\n\\t\\t\\t\\n\\t\\t\\t</div>\\n\\t\\t\\t<div class=\"meta\">\\n\\t\\t\\t\\t<div class=\"date\"> 4/20</div>\\n\\t\\t\\t\\t<div class=\"author\">ebod221</div>\\n\\t\\t\\t</div>\\n\\t\\t</div>\\n\\n\\t\\t\\n            \\n        \\n        \\n\\t\\t<div class=\"r-ent\">\\n\\t\\t\\t<div class=\"nrec\"><span class=\"hl f2\">2</span></div>\\n\\t\\t\\t<div class=\"mark\"></div>\\n\\t\\t\\t<div class=\"title\">\\n\\t\\t\\t\\n\\t\\t\\t\\t<a href=\"/bbs/Gossiping/M.1492694658.A.6DF.html\">[問卦] 靈骨塔給遠雄承包會怎樣？</a>\\n\\t\\t\\t\\n\\t\\t\\t</div>\\n\\t\\t\\t<div class=\"meta\">\\n\\t\\t\\t\\t<div class=\"date\"> 4/20</div>\\n\\t\\t\\t\\t<div class=\"author\">Anonym5566</div>\\n\\t\\t\\t</div>\\n\\t\\t</div>\\n\\n\\t\\t\\n            \\n        \\n        \\n\\t\\t<div class=\"r-ent\">\\n\\t\\t\\t<div class=\"nrec\"><span class=\"hl f2\">4</span></div>\\n\\t\\t\\t<div class=\"mark\"></div>\\n\\t\\t\\t<div class=\"title\">\\n\\t\\t\\t\\n\\t\\t\\t\\t<a href=\"/bbs/Gossiping/M.1492694659.A.8A3.html\">[問卦] 在中國的日本企業是SONY吃最開？</a>\\n\\t\\t\\t\\n\\t\\t\\t</div>\\n\\t\\t\\t<div class=\"meta\">\\n\\t\\t\\t\\t<div class=\"date\"> 4/20</div>\\n\\t\\t\\t\\t<div class=\"author\">ben883095</div>\\n\\t\\t\\t</div>\\n\\t\\t</div>\\n\\n\\t\\t\\n            \\n        \\n        \\n\\t\\t<div class=\"r-ent\">\\n\\t\\t\\t<div class=\"nrec\"></div>\\n\\t\\t\\t<div class=\"mark\"></div>\\n\\t\\t\\t<div class=\"title\">\\n\\t\\t\\t\\n\\t\\t\\t\\t<a href=\"/bbs/Gossiping/M.1492694668.A.134.html\">[問卦] 如果犯罪的懲罰改為強制讀書?</a>\\n\\t\\t\\t\\n\\t\\t\\t</div>\\n\\t\\t\\t<div class=\"meta\">\\n\\t\\t\\t\\t<div class=\"date\"> 4/20</div>\\n\\t\\t\\t\\t<div class=\"author\">a555225</div>\\n\\t\\t\\t</div>\\n\\t\\t</div>\\n\\n\\t\\t\\n            \\n        \\n        \\n\\t\\t<div class=\"r-ent\">\\n\\t\\t\\t<div class=\"nrec\"><span class=\"hl f2\">4</span></div>\\n\\t\\t\\t<div class=\"mark\"></div>\\n\\t\\t\\t<div class=\"title\">\\n\\t\\t\\t\\n\\t\\t\\t\\t<a href=\"/bbs/Gossiping/M.1492694673.A.F0F.html\">[問卦] 靈骨塔給遠雄承包會變怎樣</a>\\n\\t\\t\\t\\n\\t\\t\\t</div>\\n\\t\\t\\t<div class=\"meta\">\\n\\t\\t\\t\\t<div class=\"date\"> 4/20</div>\\n\\t\\t\\t\\t<div class=\"author\">ZhenKai089</div>\\n\\t\\t\\t</div>\\n\\t\\t</div>\\n\\n\\t\\t\\n            \\n        \\n        \\n\\t\\t<div class=\"r-ent\">\\n\\t\\t\\t<div class=\"nrec\"><span class=\"hl f2\">2</span></div>\\n\\t\\t\\t<div class=\"mark\"></div>\\n\\t\\t\\t<div class=\"title\">\\n\\t\\t\\t\\n\\t\\t\\t\\t<a href=\"/bbs/Gossiping/M.1492694681.A.FB6.html\">[問卦] 有沒有馮紐曼的八卦</a>\\n\\t\\t\\t\\n\\t\\t\\t</div>\\n\\t\\t\\t<div class=\"meta\">\\n\\t\\t\\t\\t<div class=\"date\"> 4/20</div>\\n\\t\\t\\t\\t<div class=\"author\">tkc7</div>\\n\\t\\t\\t</div>\\n\\t\\t</div>\\n\\n\\t\\t\\n            \\n        \\n        \\n\\t\\t<div class=\"r-ent\">\\n\\t\\t\\t<div class=\"nrec\"></div>\\n\\t\\t\\t<div class=\"mark\"></div>\\n\\t\\t\\t<div class=\"title\">\\n\\t\\t\\t\\n\\t\\t\\t\\t<a href=\"/bbs/Gossiping/M.1492694713.A.CC2.html\">[問卦] 殺了一隻蚊子會怎樣</a>\\n\\t\\t\\t\\n\\t\\t\\t</div>\\n\\t\\t\\t<div class=\"meta\">\\n\\t\\t\\t\\t<div class=\"date\"> 4/20</div>\\n\\t\\t\\t\\t<div class=\"author\">noodlesnice</div>\\n\\t\\t\\t</div>\\n\\t\\t</div>\\n\\n\\t\\t\\n            \\n        \\n        \\n\\t\\t<div class=\"r-ent\">\\n\\t\\t\\t<div class=\"nrec\"><span class=\"hl f2\">1</span></div>\\n\\t\\t\\t<div class=\"mark\"></div>\\n\\t\\t\\t<div class=\"title\">\\n\\t\\t\\t\\n\\t\\t\\t\\t<a href=\"/bbs/Gossiping/M.1492694738.A.A11.html\">Re: [問卦] 跟台女兩人夜唱 需要注意什麼</a>\\n\\t\\t\\t\\n\\t\\t\\t</div>\\n\\t\\t\\t<div class=\"meta\">\\n\\t\\t\\t\\t<div class=\"date\"> 4/20</div>\\n\\t\\t\\t\\t<div class=\"author\">moriyako</div>\\n\\t\\t\\t</div>\\n\\t\\t</div>\\n\\n\\t\\t\\n            \\n        \\n        \\n\\t\\t<div class=\"r-ent\">\\n\\t\\t\\t<div class=\"nrec\"><span class=\"hl f2\">3</span></div>\\n\\t\\t\\t<div class=\"mark\"></div>\\n\\t\\t\\t<div class=\"title\">\\n\\t\\t\\t\\n\\t\\t\\t\\t<a href=\"/bbs/Gossiping/M.1492694795.A.22E.html\">[問卦] 能暗戀一個人多久才放棄？</a>\\n\\t\\t\\t\\n\\t\\t\\t</div>\\n\\t\\t\\t<div class=\"meta\">\\n\\t\\t\\t\\t<div class=\"date\"> 4/20</div>\\n\\t\\t\\t\\t<div class=\"author\">jingthreept</div>\\n\\t\\t\\t</div>\\n\\t\\t</div>\\n\\n\\t\\t\\n            \\n        \\n        \\n\\t\\t<div class=\"r-ent\">\\n\\t\\t\\t<div class=\"nrec\"><span class=\"hl f2\">3</span></div>\\n\\t\\t\\t<div class=\"mark\"></div>\\n\\t\\t\\t<div class=\"title\">\\n\\t\\t\\t\\n\\t\\t\\t\\t<a href=\"/bbs/Gossiping/M.1492694812.A.335.html\">[新聞] 《RO 仙境傳說 Online》預告 5 月開放同</a>\\n\\t\\t\\t\\n\\t\\t\\t</div>\\n\\t\\t\\t<div class=\"meta\">\\n\\t\\t\\t\\t<div class=\"date\"> 4/20</div>\\n\\t\\t\\t\\t<div class=\"author\">teaplus</div>\\n\\t\\t\\t</div>\\n\\t\\t</div>\\n\\n\\t\\t\\n            \\n        \\n        \\n\\t\\t<div class=\"r-ent\">\\n\\t\\t\\t<div class=\"nrec\"><span class=\"hl f2\">2</span></div>\\n\\t\\t\\t<div class=\"mark\"></div>\\n\\t\\t\\t<div class=\"title\">\\n\\t\\t\\t\\n\\t\\t\\t\\t<a href=\"/bbs/Gossiping/M.1492694821.A.A0D.html\">[問卦] 沙威瑪45元算貴嗎？</a>\\n\\t\\t\\t\\n\\t\\t\\t</div>\\n\\t\\t\\t<div class=\"meta\">\\n\\t\\t\\t\\t<div class=\"date\"> 4/20</div>\\n\\t\\t\\t\\t<div class=\"author\">guanshiun</div>\\n\\t\\t\\t</div>\\n\\t\\t</div>\\n\\n\\t\\t\\n            \\n        \\n        \\n\\t\\t<div class=\"r-ent\">\\n\\t\\t\\t<div class=\"nrec\"><span class=\"hl f2\">1</span></div>\\n\\t\\t\\t<div class=\"mark\"></div>\\n\\t\\t\\t<div class=\"title\">\\n\\t\\t\\t\\n\\t\\t\\t\\t<a href=\"/bbs/Gossiping/M.1492694841.A.2FB.html\">[問卦] 我是公務員，年金改革:快改，好嗎?</a>\\n\\t\\t\\t\\n\\t\\t\\t</div>\\n\\t\\t\\t<div class=\"meta\">\\n\\t\\t\\t\\t<div class=\"date\"> 4/20</div>\\n\\t\\t\\t\\t<div class=\"author\">everqaz</div>\\n\\t\\t\\t</div>\\n\\t\\t</div>\\n\\n\\t\\t\\n        \\n        <div class=\"r-list-sep\"></div>\\n            \\n                \\n        \\n        \\n\\t\\t<div class=\"r-ent\">\\n\\t\\t\\t<div class=\"nrec\"></div>\\n\\t\\t\\t<div class=\"mark\">!</div>\\n\\t\\t\\t<div class=\"title\">\\n\\t\\t\\t\\n\\t\\t\\t\\t<a href=\"/bbs/Gossiping/M.1471338439.A.5B1.html\">[公告] 八卦板板規(2016.08.16)</a>\\n\\t\\t\\t\\n\\t\\t\\t</div>\\n\\t\\t\\t<div class=\"meta\">\\n\\t\\t\\t\\t<div class=\"date\"> 8/16</div>\\n\\t\\t\\t\\t<div class=\"author\">Bignana</div>\\n\\t\\t\\t</div>\\n\\t\\t</div>\\n\\n            \\n                \\n        \\n        \\n\\t\\t<div class=\"r-ent\">\\n\\t\\t\\t<div class=\"nrec\"><span class=\"hl f1\">爆</span></div>\\n\\t\\t\\t<div class=\"mark\">M</div>\\n\\t\\t\\t<div class=\"title\">\\n\\t\\t\\t\\n\\t\\t\\t\\t<a href=\"/bbs/Gossiping/M.1492426304.A.892.html\">Re: [新聞] 八田安葬烏山頭 愛台灣超越種族</a>\\n\\t\\t\\t\\n\\t\\t\\t</div>\\n\\t\\t\\t<div class=\"meta\">\\n\\t\\t\\t\\t<div class=\"date\"> 4/17</div>\\n\\t\\t\\t\\t<div class=\"author\">sizumaru</div>\\n\\t\\t\\t</div>\\n\\t\\t</div>\\n\\n            \\n                \\n        \\n        \\n\\t\\t<div class=\"r-ent\">\\n\\t\\t\\t<div class=\"nrec\"><span class=\"hl f3\">97</span></div>\\n\\t\\t\\t<div class=\"mark\">M</div>\\n\\t\\t\\t<div class=\"title\">\\n\\t\\t\\t\\n\\t\\t\\t\\t<a href=\"/bbs/Gossiping/M.1490976173.A.B61.html\">[公告] 四月份置底閒聊區</a>\\n\\t\\t\\t\\n\\t\\t\\t</div>\\n\\t\\t\\t<div class=\"meta\">\\n\\t\\t\\t\\t<div class=\"date\"> 4/01</div>\\n\\t\\t\\t\\t<div class=\"author\">Mews</div>\\n\\t\\t\\t</div>\\n\\t\\t</div>\\n\\n            \\n        \\n\\t</div>\\n\\n    \\n<div class=\"bbs-screen bbs-footer-message\">本網站已依台灣網站內容分級規定處理。此區域為限制級，未滿十八歲者不得瀏覽。</div>\\n\\n</div>\\n\\n\\t\\t\\n\\n<script>\\n  (function(i,s,o,g,r,a,m){i[\\'GoogleAnalyticsObject\\']=r;i[r]=i[r]||function(){\\n  (i[r].q=i[r].q||[]).push(arguments)},i[r].l=1*new Date();a=s.createElement(o),\\n  m=s.getElementsByTagName(o)[0];a.async=1;a.src=g;m.parentNode.insertBefore(a,m)\\n  })(window,document,\\'script\\',\\'https://www.google-analytics.com/analytics.js\\',\\'ga\\');\\n\\n  ga(\\'create\\', \\'UA-32365737-1\\', {\\n    cookieDomain: \\'ptt.cc\\',\\n    legacyCookieDomain: \\'ptt.cc\\'\\n  });\\n  ga(\\'send\\', \\'pageview\\');\\n</script>\\n\\n\\n\\t\\t\\n<script src=\"//ajax.googleapis.com/ajax/libs/jquery/2.1.1/jquery.min.js\"></script>\\n<script src=\"//images.ptt.cc/bbs/v2.22/bbs.js\"></script>\\n\\n    </body>\\n</html>\\n'"
      ]
     },
     "execution_count": 5,
     "metadata": {},
     "output_type": "execute_result"
    }
   ],
   "source": [
    "import requests\n",
    "url = \"https://www.ptt.cc/bbs/Gossiping/index.html\"\n",
    "cookies={'over18': '1'} # 網頁版的Ptt八卦板要做年齡認証\n",
    "res = requests.get(url, cookies=cookies)\n",
    "res.text"
   ]
  },
  {
   "cell_type": "markdown",
   "metadata": {
    "collapsed": true
   },
   "source": [
    "# 如果文章存在，尚未被刪除，則將文章相關資訊解析出來。"
   ]
  },
  {
   "cell_type": "code",
   "execution_count": 4,
   "metadata": {
    "collapsed": false
   },
   "outputs": [
    {
     "name": "stdout",
     "output_type": "stream",
     "text": [
      "日期：  4/20 \n",
      "作者： monkeymajik \n",
      "推文數： 1 \n",
      "文章標題： Re: [問卦] 給大陸統一有什麼不好？ \n",
      "連結網址： /bbs/Gossiping/M.1492691915.A.8DC.html \n",
      "\n",
      "日期：  4/20 \n",
      "作者： pttfatman \n",
      "推文數： 0 \n",
      "文章標題： [問卦] 什麼樣的文可以獲得最多噓 \n",
      "連結網址： /bbs/Gossiping/M.1492691961.A.2B4.html \n",
      "\n",
      "日期：  4/20 \n",
      "作者： monkeykinger \n",
      "推文數： 3 \n",
      "文章標題： [問卦] 有沒有台政雙學歷爆雷人der八卦 \n",
      "連結網址： /bbs/Gossiping/M.1492691998.A.A91.html \n",
      "\n",
      "日期：  4/20 \n",
      "作者： purue \n",
      "推文數： 5 \n",
      "文章標題： [爆卦] 林務局鼓勵民眾對不合時宜的法規提出看法 \n",
      "連結網址： /bbs/Gossiping/M.1492692001.A.672.html \n",
      "\n",
      "日期：  4/20 \n",
      "作者： ptt888 \n",
      "推文數： 6 \n",
      "文章標題： [問卦] 古中國強盛時 有讓高麗成為中國領土嗎？ \n",
      "連結網址： /bbs/Gossiping/M.1492692012.A.86D.html \n",
      "\n",
      "日期：  4/20 \n",
      "作者： xxx7789 \n",
      "推文數： 1 \n",
      "文章標題： [問卦] 有沒有萬象電視股份有限公司的八卦 \n",
      "連結網址： /bbs/Gossiping/M.1492692027.A.7BD.html \n",
      "\n",
      "日期：  4/20 \n",
      "作者： aya16810 \n",
      "推文數： 1 \n",
      "文章標題： [問卦] 有沒有信義之星住宅的八卦 \n",
      "連結網址： /bbs/Gossiping/M.1492692104.A.8FC.html \n",
      "\n",
      "日期：  4/20 \n",
      "作者： gongling \n",
      "推文數： 0 \n",
      "文章標題： [問卦] 中國女生喜歡在地鐵坐著跳舞的八卦？ \n",
      "連結網址： /bbs/Gossiping/M.1492692125.A.353.html \n",
      "\n",
      "日期：  4/20 \n",
      "作者： Neverfor \n",
      "推文數： 0 \n",
      "文章標題： [問卦] 網購版都是誰在看的? \n",
      "連結網址： /bbs/Gossiping/M.1492692130.A.691.html \n",
      "\n",
      "日期：  4/20 \n",
      "作者： paytons \n",
      "推文數： 1 \n",
      "文章標題： [問卦] 中廣為什麼不能換頻道？ \n",
      "連結網址： /bbs/Gossiping/M.1492692137.A.C28.html \n",
      "\n",
      "日期：  4/20 \n",
      "作者： masi \n",
      "推文數： 1 \n",
      "文章標題： Re: [問卦] 在臺灣要如何只殺一人就被判死？ \n",
      "連結網址： /bbs/Gossiping/M.1492692149.A.E9D.html \n",
      "\n",
      "日期：  4/20 \n",
      "作者： hoyumi \n",
      "推文數： 0 \n",
      "文章標題： [問卦] 路人甲正義行動真的可以阻止家暴嗎? \n",
      "連結網址： /bbs/Gossiping/M.1492692151.A.8E5.html \n",
      "\n",
      "日期：  4/20 \n",
      "作者： palindromes \n",
      "推文數： 1 \n",
      "文章標題： Re: [問卦] 大嫂說要跟我做愛該怎麼辦？ \n",
      "連結網址： /bbs/Gossiping/M.1492692163.A.A18.html \n",
      "\n",
      "日期：  4/20 \n",
      "作者： deitly \n",
      "推文數： 0 \n",
      "文章標題： Re: [問卦] 台男們不少在抱怨壞台女 那好台女在哪 \n",
      "連結網址： /bbs/Gossiping/M.1492692171.A.DCB.html \n",
      "\n",
      "日期：  4/20 \n",
      "作者： Kaoos \n",
      "推文數： 0 \n",
      "文章標題： [問卦] 老師是不是教錯了? \n",
      "連結網址： /bbs/Gossiping/M.1492692190.A.318.html \n",
      "\n",
      "日期：  4/20 \n",
      "作者： klm \n",
      "推文數： 0 \n",
      "文章標題： Re: [新聞] 曾被老師批「班上吊車尾的敗類」 他成企 \n",
      "連結網址： /bbs/Gossiping/M.1492692191.A.B96.html \n",
      "\n",
      "日期：  4/20 \n",
      "作者： ideso \n",
      "推文數： 0 \n",
      "文章標題： [問卦] 姆咪腦袋進水 \n",
      "連結網址： /bbs/Gossiping/M.1492692195.A.C73.html \n",
      "\n",
      "日期：  4/20 \n",
      "作者： Tiara5566 \n",
      "推文數： 0 \n",
      "文章標題： [問卦] 淺草寺給遠雄蓋會怎樣? \n",
      "連結網址： /bbs/Gossiping/M.1492692202.A.F72.html \n",
      "\n",
      "日期：  4/20 \n",
      "作者： Deltak \n",
      "推文數： 2 \n",
      "文章標題： [問卦] 這是什麼龜？ \n",
      "連結網址： /bbs/Gossiping/M.1492692209.A.1F1.html \n",
      "\n",
      "日期：  4/20 \n",
      "作者： s870630 \n",
      "推文數： 0 \n",
      "文章標題： [問卦] 在d卡發文對指考作文有沒有幫助？？ \n",
      "連結網址： /bbs/Gossiping/M.1492692226.A.0D1.html \n",
      "\n",
      "日期：  8/16 \n",
      "作者： Bignana \n",
      "推文數： 0 \n",
      "文章標題： [公告] 八卦板板規(2016.08.16) \n",
      "連結網址： /bbs/Gossiping/M.1471338439.A.5B1.html \n",
      "\n",
      "日期：  4/17 \n",
      "作者： sizumaru \n",
      "推文數： 0 \n",
      "文章標題： Re: [新聞] 八田安葬烏山頭 愛台灣超越種族 \n",
      "連結網址： /bbs/Gossiping/M.1492426304.A.892.html \n",
      "\n",
      "日期：  4/01 \n",
      "作者： Mews \n",
      "推文數： 0 \n",
      "文章標題： [公告] 四月份置底閒聊區 \n",
      "連結網址： /bbs/Gossiping/M.1490976173.A.B61.html \n",
      "\n"
     ]
    }
   ],
   "source": [
    "from bs4 import BeautifulSoup\n",
    "soup = BeautifulSoup(res.text, 'html.parser')\n",
    "for post in soup.find_all(\"div\",\"r-ent\"):\n",
    "    if post.find(\"a\"): #若有超連結，表示文章存在未被刪除\n",
    "        href = post.find(\"a\")[\"href\"]\n",
    "        title = post.find(\"a\").string\n",
    "        date = post.find('div', 'date').string \n",
    "        author = post.find('div', 'author').string \n",
    "        push = 0\n",
    "        if post.find(\"div\",\"nrec\").string: #推文數若存在\n",
    "            try:\n",
    "                push = int(post.find(\"div\",\"nrec\").string)#轉型成整數\n",
    "            except:\n",
    "                pass # 若轉換失敗，不再任何事情，push為0\n",
    "        print(\"日期：\", date, \"\\n作者：\", author, \"\\n推文數：\", push, \"\\n\"\"文章標題：\", title, \"\\n連結網址：\", href, \"\\n\")        "
   ]
  },
  {
   "cell_type": "markdown",
   "metadata": {},
   "source": [
    "# 將文章資訊(Metadata)，依照不同欄位名稱，寫入一個檔案。"
   ]
  },
  {
   "cell_type": "code",
   "execution_count": 13,
   "metadata": {
    "collapsed": false
   },
   "outputs": [],
   "source": [
    "def PttCrawler(url):\n",
    "    import requests\n",
    "    cookies={'over18': '1'} # 網頁版的Ptt八卦板要做年齡認証\n",
    "    res = requests.get(url, cookies=cookies)\n",
    "    if res.status_code == 200:\n",
    "        return res.text # \n",
    "    else:\n",
    "        print(\"Request failed\", \"Code:\", res.status_code)\n",
    "\n",
    "def HtmlParser(html):\n",
    "    from bs4 import BeautifulSoup\n",
    "    soup = BeautifulSoup(html, 'html.parser')\n",
    "    data = [] # 建立一個存放資料的空串列\n",
    "    for post in soup.find_all(\"div\",\"r-ent\"):\n",
    "        if post.find(\"a\"): #若有超連結，表示文章存在未被刪除\n",
    "            href = post.find(\"a\")[\"href\"]\n",
    "            title = post.find(\"a\").string\n",
    "            date = post.find('div', 'date').string \n",
    "            author = post.find('div', 'author').string \n",
    "            push = 0\n",
    "            if post.find(\"div\",\"nrec\").string: #推文數若存在\n",
    "                try:\n",
    "                    push = int(post.find(\"div\",\"nrec\").string)\n",
    "                except:\n",
    "                    pass\n",
    "            post_list = [date, author, push, title, href] # Meta串列 \n",
    "            data.append(post_list) # 資料串列\n",
    "    return data\n",
    "\n",
    "    "
   ]
  },
  {
   "cell_type": "code",
   "execution_count": 15,
   "metadata": {
    "collapsed": false
   },
   "outputs": [
    {
     "name": "stdout",
     "output_type": "stream",
     "text": [
      "     4/07     qqq61004   9              [問卦] 覺得約砲沒什麼卻不敢坦白？  \\\n",
      "0    4/07  Yirgacheffe   6          [新聞] 近畿大學新建圖書館 3成藏書是漫畫   \n",
      "1    4/07      aq200aq   4                    [問卦] 善導寺的資金？   \n",
      "2    4/07  GTOyoko5566   0          Re: [問卦] 明天放假!要去哪裡看熱褲！   \n",
      "3    4/07        lovea   7        [新聞] 已婚警要懷孕人妻傳露點照　夫嗆跪分局洗   \n",
      "4    4/07     zzzz8931   3               [問卦] 有沒有台大男五舍的八卦？   \n",
      "5    4/07     goooeooo   1   Re: [新聞] 川普射50枚戰斧飛彈 正式介入敘利亞內戰   \n",
      "6    4/07       ihashi  18           [新聞] 少女感謝恩人照顧　竟主動以身相許   \n",
      "7    4/07        BMotu   6           [問卦] 有沒有桃園/中壢客運爛到爆的八卦   \n",
      "8    4/07     fc3s4321   2            [問卦] 在不該笑的時候笑出來有問題嗎？   \n",
      "9    4/07  ashleykitty   0                  [問卦] 味味a冬菜鴨肉冬粉   \n",
      "10   4/07       bernon   1  Re: [問卦] 玩手遊課金課到1萬的人未甚麼不乾脆買PSP   \n",
      "11   4/07    HAHAcomet   1     Re: [新聞] 布裘閃離真相曝光!裘莉親哥哥遭爆是小   \n",
      "12   4/07       moocow   0        [新聞] 北市辦居住正義論壇 都更自救會場外抗議   \n",
      "13   4/07    z72117211   0           [問卦] 桂冠 素三杯炒飯為什麼這麼好吃？   \n",
      "14   4/07  a0921387223   0         [問卦] 朋友在玩UP直播不敢讓大家知道為何？   \n",
      "15   4/07  faintbreeze   0          [問卦] Prison Break裡面的莎拉   \n",
      "16   8/16      Bignana   0          [公告] 八卦板板規(2016.08.16)   \n",
      "17   3/30   bruce38874   2     [協尋] 3/29中午12點台中三民西路東興路一段車禍   \n",
      "18   4/03   orangelove  44   [協尋] 3/31 15:50南山路與六福路交叉口死亡車禍   \n",
      "19   4/01         Mews  54                   [公告] 四月份置底閒聊區   \n",
      "\n",
      "    /bbs/Gossiping/M.1491558130.A.14D.html  \n",
      "0   /bbs/Gossiping/M.1491558158.A.C9E.html  \n",
      "1   /bbs/Gossiping/M.1491558384.A.DF2.html  \n",
      "2   /bbs/Gossiping/M.1491558420.A.B4C.html  \n",
      "3   /bbs/Gossiping/M.1491558461.A.2FE.html  \n",
      "4   /bbs/Gossiping/M.1491558461.A.94A.html  \n",
      "5   /bbs/Gossiping/M.1491558486.A.A66.html  \n",
      "6   /bbs/Gossiping/M.1491558515.A.8C5.html  \n",
      "7   /bbs/Gossiping/M.1491558635.A.DF8.html  \n",
      "8   /bbs/Gossiping/M.1491558637.A.A9F.html  \n",
      "9   /bbs/Gossiping/M.1491558700.A.DE8.html  \n",
      "10  /bbs/Gossiping/M.1491558705.A.CA3.html  \n",
      "11  /bbs/Gossiping/M.1491558724.A.F2F.html  \n",
      "12  /bbs/Gossiping/M.1491558737.A.AA8.html  \n",
      "13  /bbs/Gossiping/M.1491558761.A.831.html  \n",
      "14  /bbs/Gossiping/M.1491558772.A.5F6.html  \n",
      "15  /bbs/Gossiping/M.1491558784.A.70E.html  \n",
      "16  /bbs/Gossiping/M.1471338439.A.5B1.html  \n",
      "17  /bbs/Gossiping/M.1490855488.A.90E.html  \n",
      "18  /bbs/Gossiping/M.1491201856.A.E75.html  \n",
      "19  /bbs/Gossiping/M.1490976173.A.B61.html  \n"
     ]
    }
   ],
   "source": [
    "import pandas as pd\n",
    "t = pd.read_csv(\"PttGossiping.csv\")\n",
    "print(t)"
   ]
  },
  {
   "cell_type": "code",
   "execution_count": 14,
   "metadata": {
    "collapsed": false
   },
   "outputs": [
    {
     "name": "stdout",
     "output_type": "stream",
     "text": [
      "[[' 4/07', 'qqq61004', 9, '[問卦] 覺得約砲沒什麼卻不敢坦白？', '/bbs/Gossiping/M.1491558130.A.14D.html'], [' 4/07', 'Yirgacheffe', 6, '[新聞] 近畿大學新建圖書館 3成藏書是漫畫', '/bbs/Gossiping/M.1491558158.A.C9E.html'], [' 4/07', 'aq200aq', 4, '[問卦] 善導寺的資金？', '/bbs/Gossiping/M.1491558384.A.DF2.html'], [' 4/07', 'GTOyoko5566', 0, 'Re: [問卦] 明天放假!要去哪裡看熱褲！', '/bbs/Gossiping/M.1491558420.A.B4C.html'], [' 4/07', 'lovea', 7, '[新聞] 已婚警要懷孕人妻傳露點照\\u3000夫嗆跪分局洗', '/bbs/Gossiping/M.1491558461.A.2FE.html'], [' 4/07', 'zzzz8931', 3, '[問卦] 有沒有台大男五舍的八卦？', '/bbs/Gossiping/M.1491558461.A.94A.html'], [' 4/07', 'goooeooo', 1, 'Re: [新聞] 川普射50枚戰斧飛彈 正式介入敘利亞內戰', '/bbs/Gossiping/M.1491558486.A.A66.html'], [' 4/07', 'ihashi', 18, '[新聞] 少女感謝恩人照顧\\u3000竟主動以身相許', '/bbs/Gossiping/M.1491558515.A.8C5.html'], [' 4/07', 'BMotu', 6, '[問卦] 有沒有桃園/中壢客運爛到爆的八卦', '/bbs/Gossiping/M.1491558635.A.DF8.html'], [' 4/07', 'fc3s4321', 2, '[問卦] 在不該笑的時候笑出來有問題嗎？', '/bbs/Gossiping/M.1491558637.A.A9F.html'], [' 4/07', 'ashleykitty', 0, '[問卦] 味味a冬菜鴨肉冬粉', '/bbs/Gossiping/M.1491558700.A.DE8.html'], [' 4/07', 'bernon', 1, 'Re: [問卦] 玩手遊課金課到1萬的人未甚麼不乾脆買PSP', '/bbs/Gossiping/M.1491558705.A.CA3.html'], [' 4/07', 'HAHAcomet', 1, 'Re: [新聞] 布裘閃離真相曝光!裘莉親哥哥遭爆是小', '/bbs/Gossiping/M.1491558724.A.F2F.html'], [' 4/07', 'moocow', 0, '[新聞] 北市辦居住正義論壇 都更自救會場外抗議', '/bbs/Gossiping/M.1491558737.A.AA8.html'], [' 4/07', 'z72117211', 0, '[問卦] 桂冠 素三杯炒飯為什麼這麼好吃？', '/bbs/Gossiping/M.1491558761.A.831.html'], [' 4/07', 'a0921387223', 0, '[問卦] 朋友在玩UP直播不敢讓大家知道為何？', '/bbs/Gossiping/M.1491558772.A.5F6.html'], [' 4/07', 'faintbreeze', 0, '[問卦] Prison Break裡面的莎拉', '/bbs/Gossiping/M.1491558784.A.70E.html'], [' 8/16', 'Bignana', 0, '[公告] 八卦板板規(2016.08.16)', '/bbs/Gossiping/M.1471338439.A.5B1.html'], [' 3/30', 'bruce38874', 2, '[協尋] 3/29中午12點台中三民西路東興路一段車禍', '/bbs/Gossiping/M.1490855488.A.90E.html'], [' 4/03', 'orangelove', 44, '[協尋] 3/31 15:50南山路與六福路交叉口死亡車禍', '/bbs/Gossiping/M.1491201856.A.E75.html'], [' 4/01', 'Mews', 54, '[公告] 四月份置底閒聊區', '/bbs/Gossiping/M.1490976173.A.B61.html']]\n"
     ]
    }
   ],
   "source": [
    "url = \"https://www.ptt.cc/bbs/Gossiping/index.html\"\n",
    "ptt_html = PttCrawler(url)\n",
    "data = HtmlParser(ptt_html)\n",
    "print(data)\n",
    "\n",
    "import csv\n",
    "with open(\"PttGossiping.csv\", \"wt\", encoding=\"utf8\") as ptt:\n",
    "    cout = csv.writer(ptt)\n",
    "    cout.writerows(data) #每一筆資料寫入一列"
   ]
  },
  {
   "cell_type": "markdown",
   "metadata": {},
   "source": [
    "# 將不同分頁的文章擷取回來，依照日期存放在不同目錄。"
   ]
  },
  {
   "cell_type": "code",
   "execution_count": 5,
   "metadata": {
    "collapsed": false
   },
   "outputs": [],
   "source": [
    "def PttWriteMeta(filename, data):\n",
    "    import csv\n",
    "    with open(filename, \"at\", encoding=\"utf8\") as ptt: # append 附加模式\n",
    "        cout = csv.writer(ptt)\n",
    "        cout.writerows(data)"
   ]
  },
  {
   "cell_type": "code",
   "execution_count": 6,
   "metadata": {
    "collapsed": false
   },
   "outputs": [
    {
     "name": "stdout",
     "output_type": "stream",
     "text": [
      "\n",
      " https://www.ptt.cc/bbs/Gossiping/index22956.html \n",
      "\n",
      "Done: https://www.ptt.cc/bbs/Gossiping/M.1491495606.A.A47.html\n",
      "Done: https://www.ptt.cc/bbs/Gossiping/M.1491495692.A.9E2.html\n",
      "Done: https://www.ptt.cc/bbs/Gossiping/M.1491495701.A.BE3.html\n",
      "Done: https://www.ptt.cc/bbs/Gossiping/M.1491495712.A.89D.html\n",
      "Done: https://www.ptt.cc/bbs/Gossiping/M.1491495736.A.E07.html\n",
      "Done: https://www.ptt.cc/bbs/Gossiping/M.1491495798.A.5CC.html\n",
      "Done: https://www.ptt.cc/bbs/Gossiping/M.1491495800.A.273.html\n",
      "Done: https://www.ptt.cc/bbs/Gossiping/M.1491495816.A.66C.html\n",
      "Done: https://www.ptt.cc/bbs/Gossiping/M.1491495843.A.20D.html\n",
      "Done: https://www.ptt.cc/bbs/Gossiping/M.1491495867.A.699.html\n",
      "Done: https://www.ptt.cc/bbs/Gossiping/M.1491495888.A.0C6.html\n",
      "Done: https://www.ptt.cc/bbs/Gossiping/M.1491495925.A.C74.html\n",
      "Done: https://www.ptt.cc/bbs/Gossiping/M.1491495929.A.4CB.html\n",
      "Done: https://www.ptt.cc/bbs/Gossiping/M.1491495933.A.344.html\n",
      "Done: https://www.ptt.cc/bbs/Gossiping/M.1491495935.A.6F2.html\n",
      "Done: https://www.ptt.cc/bbs/Gossiping/M.1491495960.A.CFC.html\n",
      "Done: https://www.ptt.cc/bbs/Gossiping/M.1491495975.A.7DC.html\n",
      "Done: https://www.ptt.cc/bbs/Gossiping/M.1491496016.A.5B9.html\n",
      "Done: https://www.ptt.cc/bbs/Gossiping/M.1491496039.A.8A8.html\n",
      "\n",
      " https://www.ptt.cc/bbs/Gossiping/index22955.html \n",
      "\n",
      "Done: https://www.ptt.cc/bbs/Gossiping/M.1491495212.A.2B4.html\n",
      "Done: https://www.ptt.cc/bbs/Gossiping/M.1491495245.A.12B.html\n",
      "Done: https://www.ptt.cc/bbs/Gossiping/M.1491495279.A.561.html\n",
      "Done: https://www.ptt.cc/bbs/Gossiping/M.1491495302.A.611.html\n",
      "Done: https://www.ptt.cc/bbs/Gossiping/M.1491495311.A.C72.html\n",
      "Done: https://www.ptt.cc/bbs/Gossiping/M.1491495324.A.075.html\n",
      "Done: https://www.ptt.cc/bbs/Gossiping/M.1491495391.A.3F9.html\n",
      "Done: https://www.ptt.cc/bbs/Gossiping/M.1491495392.A.541.html\n",
      "Done: https://www.ptt.cc/bbs/Gossiping/M.1491495394.A.4CC.html\n",
      "Done: https://www.ptt.cc/bbs/Gossiping/M.1491495413.A.E19.html\n",
      "Done: https://www.ptt.cc/bbs/Gossiping/M.1491495420.A.1EF.html\n",
      "Done: https://www.ptt.cc/bbs/Gossiping/M.1491495426.A.174.html\n",
      "Done: https://www.ptt.cc/bbs/Gossiping/M.1491495433.A.6CB.html\n",
      "Done: https://www.ptt.cc/bbs/Gossiping/M.1491495439.A.F2E.html\n",
      "Done: https://www.ptt.cc/bbs/Gossiping/M.1491495474.A.472.html\n",
      "Done: https://www.ptt.cc/bbs/Gossiping/M.1491495486.A.896.html\n",
      "Done: https://www.ptt.cc/bbs/Gossiping/M.1491495540.A.6E3.html\n",
      "Done: https://www.ptt.cc/bbs/Gossiping/M.1491495548.A.169.html\n",
      "Done: https://www.ptt.cc/bbs/Gossiping/M.1491495599.A.5FF.html\n",
      "\n",
      " https://www.ptt.cc/bbs/Gossiping/index22954.html \n",
      "\n",
      "Done: https://www.ptt.cc/bbs/Gossiping/M.1491494858.A.EFD.html\n",
      "Done: https://www.ptt.cc/bbs/Gossiping/M.1491494867.A.534.html\n",
      "Done: https://www.ptt.cc/bbs/Gossiping/M.1491494884.A.74A.html\n",
      "Done: https://www.ptt.cc/bbs/Gossiping/M.1491494893.A.685.html\n",
      "Done: https://www.ptt.cc/bbs/Gossiping/M.1491494895.A.2F0.html\n",
      "Done: https://www.ptt.cc/bbs/Gossiping/M.1491494924.A.C56.html\n",
      "Done: https://www.ptt.cc/bbs/Gossiping/M.1491494965.A.F86.html\n",
      "Done: https://www.ptt.cc/bbs/Gossiping/M.1491494980.A.063.html\n",
      "Done: https://www.ptt.cc/bbs/Gossiping/M.1491494984.A.C09.html\n",
      "Done: https://www.ptt.cc/bbs/Gossiping/M.1491495003.A.908.html\n",
      "Done: https://www.ptt.cc/bbs/Gossiping/M.1491495022.A.B5A.html\n",
      "Done: https://www.ptt.cc/bbs/Gossiping/M.1491495030.A.8C3.html\n",
      "Done: https://www.ptt.cc/bbs/Gossiping/M.1491495073.A.9F5.html\n",
      "Done: https://www.ptt.cc/bbs/Gossiping/M.1491495098.A.411.html\n",
      "Done: https://www.ptt.cc/bbs/Gossiping/M.1491495102.A.E89.html\n",
      "Done: https://www.ptt.cc/bbs/Gossiping/M.1491495148.A.D77.html\n",
      "Done: https://www.ptt.cc/bbs/Gossiping/M.1491495153.A.95D.html\n",
      "Done: https://www.ptt.cc/bbs/Gossiping/M.1491495153.A.3F8.html\n",
      "Done: https://www.ptt.cc/bbs/Gossiping/M.1491495197.A.523.html\n",
      "Done: https://www.ptt.cc/bbs/Gossiping/M.1491495203.A.649.html\n",
      "\n",
      " https://www.ptt.cc/bbs/Gossiping/index22953.html \n",
      "\n",
      "Done: https://www.ptt.cc/bbs/Gossiping/M.1491494418.A.F5B.html\n",
      "Done: https://www.ptt.cc/bbs/Gossiping/M.1491494480.A.F13.html\n",
      "Done: https://www.ptt.cc/bbs/Gossiping/M.1491494485.A.8C2.html\n",
      "Done: https://www.ptt.cc/bbs/Gossiping/M.1491494514.A.1E6.html\n",
      "Done: https://www.ptt.cc/bbs/Gossiping/M.1491494516.A.DF9.html\n",
      "Done: https://www.ptt.cc/bbs/Gossiping/M.1491494535.A.354.html\n",
      "Done: https://www.ptt.cc/bbs/Gossiping/M.1491494536.A.6F1.html\n",
      "Done: https://www.ptt.cc/bbs/Gossiping/M.1491494537.A.B9F.html\n",
      "Done: https://www.ptt.cc/bbs/Gossiping/M.1491494577.A.04A.html\n",
      "Done: https://www.ptt.cc/bbs/Gossiping/M.1491494597.A.906.html\n",
      "Done: https://www.ptt.cc/bbs/Gossiping/M.1491494598.A.BFB.html\n",
      "Done: https://www.ptt.cc/bbs/Gossiping/M.1491494602.A.D98.html\n",
      "Done: https://www.ptt.cc/bbs/Gossiping/M.1491494604.A.8F6.html\n",
      "Done: https://www.ptt.cc/bbs/Gossiping/M.1491494608.A.AA9.html\n",
      "Done: https://www.ptt.cc/bbs/Gossiping/M.1491494608.A.3BB.html\n",
      "Done: https://www.ptt.cc/bbs/Gossiping/M.1491494636.A.302.html\n",
      "Done: https://www.ptt.cc/bbs/Gossiping/M.1491494710.A.7BA.html\n",
      "Done: https://www.ptt.cc/bbs/Gossiping/M.1491494752.A.35F.html\n",
      "\n",
      " https://www.ptt.cc/bbs/Gossiping/index22952.html \n",
      "\n",
      "Done: https://www.ptt.cc/bbs/Gossiping/M.1491494169.A.FEE.html\n",
      "Done: https://www.ptt.cc/bbs/Gossiping/M.1491494180.A.A8A.html\n",
      "Done: https://www.ptt.cc/bbs/Gossiping/M.1491494190.A.3C9.html\n",
      "Done: https://www.ptt.cc/bbs/Gossiping/M.1491494191.A.073.html\n",
      "Done: https://www.ptt.cc/bbs/Gossiping/M.1491494202.A.A87.html\n",
      "Done: https://www.ptt.cc/bbs/Gossiping/M.1491494220.A.6C2.html\n",
      "Done: https://www.ptt.cc/bbs/Gossiping/M.1491494223.A.52C.html\n",
      "Done: https://www.ptt.cc/bbs/Gossiping/M.1491494225.A.2B3.html\n",
      "Done: https://www.ptt.cc/bbs/Gossiping/M.1491494268.A.0FD.html\n",
      "Done: https://www.ptt.cc/bbs/Gossiping/M.1491494291.A.A33.html\n",
      "Done: https://www.ptt.cc/bbs/Gossiping/M.1491494296.A.55E.html\n",
      "Done: https://www.ptt.cc/bbs/Gossiping/M.1491494305.A.0BC.html\n",
      "Done: https://www.ptt.cc/bbs/Gossiping/M.1491494323.A.04C.html\n",
      "Done: https://www.ptt.cc/bbs/Gossiping/M.1491494358.A.44C.html\n",
      "Done: https://www.ptt.cc/bbs/Gossiping/M.1491494360.A.B71.html\n",
      "Done: https://www.ptt.cc/bbs/Gossiping/M.1491494373.A.B0B.html\n",
      "Done: https://www.ptt.cc/bbs/Gossiping/M.1491494389.A.BC8.html\n",
      "Done: https://www.ptt.cc/bbs/Gossiping/M.1491494389.A.069.html\n",
      "Done: https://www.ptt.cc/bbs/Gossiping/M.1491494392.A.B0F.html\n",
      "Done: https://www.ptt.cc/bbs/Gossiping/M.1491494408.A.630.html\n"
     ]
    }
   ],
   "source": [
    "import os, time\n",
    "\n",
    "UptoDate = 22956 #最新的那頁編號\n",
    "page = 5 # 要截取的頁數\n",
    "\n",
    "for i in range(page):\n",
    "    url = \"https://www.ptt.cc/bbs/Gossiping/index\" + str(UptoDate-i) + \".html\"\n",
    "    print(\"\\n\", url, \"\\n\")\n",
    "    ptt_html = PttCrawler(url)\n",
    "    data = HtmlParser(ptt_html)\n",
    "    PttWriteMeta(\"PTT/PttMeta.csv\", data)\n",
    "    for d in data:\n",
    "        date_dir = d[0][0:2] + d[0][3:5]\n",
    "        if os.path.exists(\"PTT/\"+date_dir) == False:\n",
    "            os.mkdir(\"PTT/\"+date_dir)\n",
    "        post_url = \"https://www.ptt.cc\"+ d[4] \n",
    "        filename = d[4].split(\"/\")[3]\n",
    "        print (\"Done:\", post_url)\n",
    "        post_html = PttCrawler(post_url)\n",
    "        with open(\"PTT/\"+date_dir+\"/\"+filename, \"xt\", encoding=\"utf8\") as ptt: # x模式避免覆寫\n",
    "            ptt.write(post_html)\n",
    "    time.sleep(5) #暫停秒數\n",
    "    "
   ]
  }
 ],
 "metadata": {
  "kernelspec": {
   "display_name": "Python [Root]",
   "language": "python",
   "name": "Python [Root]"
  },
  "language_info": {
   "codemirror_mode": {
    "name": "ipython",
    "version": 3
   },
   "file_extension": ".py",
   "mimetype": "text/x-python",
   "name": "python",
   "nbconvert_exporter": "python",
   "pygments_lexer": "ipython3",
   "version": "3.5.2"
  }
 },
 "nbformat": 4,
 "nbformat_minor": 2
}
