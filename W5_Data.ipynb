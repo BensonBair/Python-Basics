{
 "cells": [
  {
   "cell_type": "markdown",
   "metadata": {
    "collapsed": true
   },
   "source": [
    "# 政府資料開放平台 Open Data http://data.gov.tw/"
   ]
  },
  {
   "cell_type": "markdown",
   "metadata": {},
   "source": [
    "# 電腦的基本儲存單位是 位元組(byte)，可以在8個位元(bit)，儲存256各不同的值"
   ]
  },
  {
   "cell_type": "markdown",
   "metadata": {},
   "source": [
    "# ASCII 只使用7個位元(128個不同的值)：26個大寫字母、26個小寫字母、10個數字、一些標點符號、一些空白字元、及一些非輸出用的控制碼"
   ]
  },
  {
   "cell_type": "markdown",
   "metadata": {},
   "source": [
    "# 使用8個位元包括 Latin-1 或 ISO-8859-1、Windows代碼頁1252"
   ]
  },
  {
   "cell_type": "markdown",
   "metadata": {},
   "source": [
    "# Unicode (http://www.unicode.org/)\n",
    "# 為每一個字元提供唯一的名稱和識別號碼\n",
    "# 最新版(10.0)總共定義 136,690個字元，預計 June 2017 釋出。"
   ]
  },
  {
   "cell_type": "markdown",
   "metadata": {},
   "source": [
    "# Python 3 Unicode 字串"
   ]
  },
  {
   "cell_type": "markdown",
   "metadata": {},
   "source": [
    "unicodedata模組有以下函式，可以做 Unicode ID 或 字元名稱 的雙向轉換："
   ]
  },
  {
   "cell_type": "markdown",
   "metadata": {},
   "source": [
    "lookup( ): 接受一個不分大小寫的名稱，回傳一個 unicode 字元"
   ]
  },
  {
   "cell_type": "markdown",
   "metadata": {},
   "source": [
    "name( ): 接受一個 Unicode 字元，回傳一個大寫名稱 "
   ]
  },
  {
   "cell_type": "code",
   "execution_count": 1,
   "metadata": {
    "collapsed": true
   },
   "outputs": [],
   "source": [
    "def unicode_test(value):\n",
    "    import unicodedata\n",
    "    name = unicodedata.name(value)\n",
    "    value2 = unicodedata.lookup(name)\n",
    "    print(\"Unicode 字元(原輸入引數)：\", value, \"\\nUnicode 名稱：\", name, \"\\nUnicode 字元(反查後)：\", value2, \"\\n\")"
   ]
  },
  {
   "cell_type": "code",
   "execution_count": 2,
   "metadata": {
    "collapsed": false
   },
   "outputs": [
    {
     "name": "stdout",
     "output_type": "stream",
     "text": [
      "Unicode 字元(原輸入引數)： A \n",
      "Unicode 名稱： LATIN CAPITAL LETTER A \n",
      "Unicode 字元(反查後)： A \n",
      "\n"
     ]
    }
   ],
   "source": [
    "unicode_test(\"A\")"
   ]
  },
  {
   "cell_type": "code",
   "execution_count": 3,
   "metadata": {
    "collapsed": false
   },
   "outputs": [
    {
     "name": "stdout",
     "output_type": "stream",
     "text": [
      "Unicode 字元(原輸入引數)： $ \n",
      "Unicode 名稱： DOLLAR SIGN \n",
      "Unicode 字元(反查後)： $ \n",
      "\n"
     ]
    }
   ],
   "source": [
    "unicode_test(\"$\")"
   ]
  },
  {
   "cell_type": "markdown",
   "metadata": {},
   "source": [
    "Unicode字元：\\u後面加上四個16進位數字， 前兩個plane號碼(00至FF)，後面兩個是那一個字元在該plane內的索引"
   ]
  },
  {
   "cell_type": "markdown",
   "metadata": {},
   "source": [
    "Unicode Code Charts (http://unicode.org/charts/) 目前定義字元集與圖像連結"
   ]
  },
  {
   "cell_type": "code",
   "execution_count": 4,
   "metadata": {
    "collapsed": false
   },
   "outputs": [
    {
     "name": "stdout",
     "output_type": "stream",
     "text": [
      "Unicode 字元(原輸入引數)： ¢ \n",
      "Unicode 名稱： CENT SIGN \n",
      "Unicode 字元(反查後)： ¢ \n",
      "\n"
     ]
    }
   ],
   "source": [
    "unicode_test(\"\\u00a2\") # plane 00 是舊的ASCII"
   ]
  },
  {
   "cell_type": "code",
   "execution_count": 5,
   "metadata": {
    "collapsed": false
   },
   "outputs": [
    {
     "name": "stdout",
     "output_type": "stream",
     "text": [
      "Unicode 字元(原輸入引數)： € \n",
      "Unicode 名稱： EURO SIGN \n",
      "Unicode 字元(反查後)： € \n",
      "\n"
     ]
    }
   ],
   "source": [
    "unicode_test(\"\\u20ac\") # plane 20"
   ]
  },
  {
   "cell_type": "code",
   "execution_count": 6,
   "metadata": {
    "collapsed": false
   },
   "outputs": [
    {
     "name": "stdout",
     "output_type": "stream",
     "text": [
      "Unicode 字元(原輸入引數)： ☃ \n",
      "Unicode 名稱： SNOWMAN \n",
      "Unicode 字元(反查後)： ☃ \n",
      "\n"
     ]
    }
   ],
   "source": [
    "unicode_test(\"\\u2603\") # plane 26"
   ]
  },
  {
   "cell_type": "code",
   "execution_count": 7,
   "metadata": {
    "collapsed": false
   },
   "outputs": [
    {
     "name": "stdout",
     "output_type": "stream",
     "text": [
      "Unicode 字元(原輸入引數)： é \n",
      "Unicode 名稱： LATIN SMALL LETTER E WITH ACUTE \n",
      "Unicode 字元(反查後)： é \n",
      "\n"
     ]
    }
   ],
   "source": [
    "unicode_test(\"\\u00e9\")"
   ]
  },
  {
   "cell_type": "code",
   "execution_count": 8,
   "metadata": {
    "collapsed": false
   },
   "outputs": [
    {
     "data": {
      "text/plain": [
       "'café'"
      ]
     },
     "execution_count": 8,
     "metadata": {},
     "output_type": "execute_result"
    }
   ],
   "source": [
    "\"caf\\u00e9\" # \\u00e9"
   ]
  },
  {
   "cell_type": "code",
   "execution_count": 9,
   "metadata": {
    "collapsed": false
   },
   "outputs": [
    {
     "name": "stdout",
     "output_type": "stream",
     "text": [
      "café\n"
     ]
    }
   ],
   "source": [
    "a = \"caf\\N{LATIN SMALL LETTER E WITH ACUTE}\" # 所有字元都可以用\\N{ name }來指定標準名稱\n",
    "print(a)"
   ]
  },
  {
   "cell_type": "code",
   "execution_count": 10,
   "metadata": {
    "collapsed": false
   },
   "outputs": [
    {
     "data": {
      "text/plain": [
       "4"
      ]
     },
     "execution_count": 10,
     "metadata": {},
     "output_type": "execute_result"
    }
   ],
   "source": [
    "len(a) # len函式計算unicdoe字元的數目，而不是byte是數目"
   ]
  },
  {
   "cell_type": "markdown",
   "metadata": {},
   "source": [
    "# UTF-8 動態編碼格式，讓每個 Unicode字元 使用一至四個位元"
   ]
  },
  {
   "cell_type": "markdown",
   "metadata": {},
   "source": [
    "ASCII一個byte"
   ]
  },
  {
   "cell_type": "markdown",
   "metadata": {},
   "source": [
    "大部分的拉丁衍生語兩個byte(但不包含Cyrillic)"
   ]
  },
  {
   "cell_type": "markdown",
   "metadata": {},
   "source": [
    "其餘的基本多語種plane三個byte"
   ]
  },
  {
   "cell_type": "markdown",
   "metadata": {},
   "source": [
    "剩下的四個byte，包括一些亞洲語言與符號"
   ]
  },
  {
   "cell_type": "markdown",
   "metadata": {},
   "source": [
    "# UTF-8 是 Python、Linux 與 HTML 的標準文字編碼\n",
    "# 它是最快速、完整、且可良好運作的格式"
   ]
  },
  {
   "cell_type": "raw",
   "metadata": {},
   "source": [
    "與外界交換資料時，就需要編碼與解碼"
   ]
  },
  {
   "cell_type": "markdown",
   "metadata": {},
   "source": [
    "# 編碼：一種將 字元字串 轉成 byte 的方式"
   ]
  },
  {
   "cell_type": "markdown",
   "metadata": {},
   "source": [
    "# encode( )字串函式的第一個引數是編碼名稱"
   ]
  },
  {
   "cell_type": "markdown",
   "metadata": {},
   "source": [
    "\"ascii\" 標準的七位元 ASCII"
   ]
  },
  {
   "cell_type": "markdown",
   "metadata": {},
   "source": [
    "\"utf-8\" 八位元可變長度編碼"
   ]
  },
  {
   "cell_type": "markdown",
   "metadata": {},
   "source": [
    "\"latin-1\" 也稱為 ISO 8859-1"
   ]
  },
  {
   "cell_type": "markdown",
   "metadata": {},
   "source": [
    "\"cp-1252\" 一般的Windows編碼"
   ]
  },
  {
   "cell_type": "markdown",
   "metadata": {},
   "source": [
    "\"cp950\" 繁體中文Big5編碼"
   ]
  },
  {
   "cell_type": "markdown",
   "metadata": {},
   "source": [
    "\"unicode-escape\" Python Unicode 常值格式， \\uxxxx 或 \\Uxxxxxxxx"
   ]
  },
  {
   "cell_type": "code",
   "execution_count": 11,
   "metadata": {
    "collapsed": false
   },
   "outputs": [
    {
     "name": "stdout",
     "output_type": "stream",
     "text": [
      "☃\n"
     ]
    },
    {
     "data": {
      "text/plain": [
       "1"
      ]
     },
     "execution_count": 11,
     "metadata": {},
     "output_type": "execute_result"
    }
   ],
   "source": [
    "snowman = \"\\u2603\"\n",
    "print(snowman)\n",
    "len(snowman)"
   ]
  },
  {
   "cell_type": "code",
   "execution_count": 12,
   "metadata": {
    "collapsed": false
   },
   "outputs": [
    {
     "name": "stdout",
     "output_type": "stream",
     "text": [
      "b'\\xe2\\x98\\x83'\n"
     ]
    },
    {
     "data": {
      "text/plain": [
       "3"
      ]
     },
     "execution_count": 12,
     "metadata": {},
     "output_type": "execute_result"
    }
   ],
   "source": [
    "snowman_utf8 = snowman.encode(\"utf-8\")\n",
    "print(snowman_utf8)\n",
    "len(snowman_utf8)"
   ]
  },
  {
   "cell_type": "code",
   "execution_count": 13,
   "metadata": {
    "collapsed": false
   },
   "outputs": [
    {
     "ename": "UnicodeEncodeError",
     "evalue": "'cp950' codec can't encode character '\\u2603' in position 0: illegal multibyte sequence",
     "output_type": "error",
     "traceback": [
      "\u001b[0;31m---------------------------------------------------------------------------\u001b[0m",
      "\u001b[0;31mUnicodeEncodeError\u001b[0m                        Traceback (most recent call last)",
      "\u001b[0;32m<ipython-input-13-fa935f87ada3>\u001b[0m in \u001b[0;36m<module>\u001b[0;34m()\u001b[0m\n\u001b[0;32m----> 1\u001b[0;31m \u001b[0msnowman\u001b[0m\u001b[0;34m.\u001b[0m\u001b[0mencode\u001b[0m\u001b[0;34m(\u001b[0m\u001b[0;34m\"cp950\"\u001b[0m\u001b[0;34m)\u001b[0m\u001b[0;34m\u001b[0m\u001b[0m\n\u001b[0m",
      "\u001b[0;31mUnicodeEncodeError\u001b[0m: 'cp950' codec can't encode character '\\u2603' in position 0: illegal multibyte sequence"
     ]
    }
   ],
   "source": [
    "snowman.encode(\"cp950\")"
   ]
  },
  {
   "cell_type": "markdown",
   "metadata": {},
   "source": [
    "# encode( )字串函式的第二個引數是來幫助避免編碼例外"
   ]
  },
  {
   "cell_type": "markdown",
   "metadata": {},
   "source": [
    "\"strict\" 預設值。如果看到非編碼字元的話，就會發出 UnicodeEncodeError "
   ]
  },
  {
   "cell_type": "markdown",
   "metadata": {},
   "source": [
    "\"ignore\" 丟棄任何無法編碼的東西"
   ]
  },
  {
   "cell_type": "markdown",
   "metadata": {},
   "source": [
    "\"replace\" 將未知字元換成？"
   ]
  },
  {
   "cell_type": "markdown",
   "metadata": {},
   "source": [
    "\"backslashreplace\" 來產生Python Unicode 字元字串，像 unicode-escape 一樣。"
   ]
  },
  {
   "cell_type": "markdown",
   "metadata": {},
   "source": [
    "# 解碼：一種將 byte 轉成 字元字串 的方式\n",
    "# 最困難的部分是暸解用的是哪一種編碼，才可以反推回去"
   ]
  },
  {
   "cell_type": "code",
   "execution_count": 14,
   "metadata": {
    "collapsed": false
   },
   "outputs": [
    {
     "name": "stdout",
     "output_type": "stream",
     "text": [
      "☃\n"
     ]
    },
    {
     "data": {
      "text/plain": [
       "str"
      ]
     },
     "execution_count": 14,
     "metadata": {},
     "output_type": "execute_result"
    }
   ],
   "source": [
    "snowman = \"\\u2603\"\n",
    "print(snowman)\n",
    "type(snowman)"
   ]
  },
  {
   "cell_type": "code",
   "execution_count": 15,
   "metadata": {
    "collapsed": false
   },
   "outputs": [
    {
     "name": "stdout",
     "output_type": "stream",
     "text": [
      "b'\\xe2\\x98\\x83'\n"
     ]
    },
    {
     "data": {
      "text/plain": [
       "bytes"
      ]
     },
     "execution_count": 15,
     "metadata": {},
     "output_type": "execute_result"
    }
   ],
   "source": [
    "snowman_utf8 = snowman.encode(\"utf-8\")\n",
    "print(snowman_utf8)\n",
    "type(snowman_utf8)"
   ]
  },
  {
   "cell_type": "code",
   "execution_count": 16,
   "metadata": {
    "collapsed": false
   },
   "outputs": [
    {
     "name": "stdout",
     "output_type": "stream",
     "text": [
      "☃\n"
     ]
    },
    {
     "data": {
      "text/plain": [
       "str"
      ]
     },
     "execution_count": 16,
     "metadata": {},
     "output_type": "execute_result"
    }
   ],
   "source": [
    "snowman_str = snowman_utf8.decode(\"utf-8\")\n",
    "print(snowman_str)\n",
    "type(snowman_str)"
   ]
  }
 ],
 "metadata": {
  "kernelspec": {
   "display_name": "Python [Root]",
   "language": "python",
   "name": "Python [Root]"
  },
  "language_info": {
   "codemirror_mode": {
    "name": "ipython",
    "version": 3
   },
   "file_extension": ".py",
   "mimetype": "text/x-python",
   "name": "python",
   "nbconvert_exporter": "python",
   "pygments_lexer": "ipython3",
   "version": "3.5.2"
  }
 },
 "nbformat": 4,
 "nbformat_minor": 2
}
