{
 "cells": [
  {
   "cell_type": "markdown",
   "metadata": {},
   "source": [
    "# 檔案輸入/輸出 "
   ]
  },
  {
   "cell_type": "markdown",
   "metadata": {},
   "source": [
    "# 開啟檔案 fileobj = open(filename, mode)\n",
    "# fileobj 是 open()回傳的檔案物件，filename是檔案的字串名稱。\n",
    "# mode是一個字串，用來只是檔案類型，以及要用來做什麼。"
   ]
  },
  {
   "cell_type": "markdown",
   "metadata": {},
   "source": [
    "mode的第一個字母代表操作。\n",
    "r代表讀取。w代表寫入，如果檔案不存在會建立，如果檔案存在就會被寫入。x代表寫入，只有在檔案不存在時。a代表附加(在結尾處寫入)，如果檔案已經存在。"
   ]
  },
  {
   "cell_type": "markdown",
   "metadata": {},
   "source": [
    "mode的第二個字母代表檔案類型。t(或無)代表文字。b代表二進位。"
   ]
  },
  {
   "cell_type": "markdown",
   "metadata": {},
   "source": [
    "# 用 write() 來編寫檔案、close() 來關閉檔案"
   ]
  },
  {
   "cell_type": "code",
   "execution_count": 1,
   "metadata": {
    "collapsed": false
   },
   "outputs": [],
   "source": [
    "text1 = \"\"\"晉太元中，武陵人，捕魚為業。緣溪行，忘路之遠近。\n",
    "忽逢桃花林，夾岸數百步，中無雜樹，芳草鮮美，落英繽紛。\n",
    "漁人甚異之。復前行，欲窮其林。\"\"\"\n",
    "pfile = open(\"poem.txt\",\"wt\") # w模式：檔案不存在時，會建立一個檔案，並將內容寫入。檔案存在時，原先內容會被覆謝 \n",
    "pfile.write(text1) # write()函式會回傳被寫入的byte數量\n",
    "pfile.close() # close()函式會關閉檔案"
   ]
  },
  {
   "cell_type": "code",
   "execution_count": 2,
   "metadata": {
    "collapsed": false
   },
   "outputs": [],
   "source": [
    "text2 =\"\"\"林盡水源，便得一山。山有小口，彷彿若有光。便舍船，從口入。初極狹，纔通人。\n",
    "復行數十步，豁然開朗。土地平曠，屋舍儼然，有良田、美池、桑、竹之屬。阡陌交通，雞犬相聞。\n",
    "其中往來種作，男女衣著，悉如外人；黃髮、垂髫，並怡然自樂。\"\"\"\n",
    "pfile = open(\"poem.txt\",\"at\") # a代表附加\n",
    "pfile.write(text2)\n",
    "pfile.close() "
   ]
  },
  {
   "cell_type": "code",
   "execution_count": 3,
   "metadata": {
    "collapsed": false
   },
   "outputs": [
    {
     "ename": "FileExistsError",
     "evalue": "[Errno 17] File exists: 'poem.txt'",
     "output_type": "error",
     "traceback": [
      "\u001b[0;31m---------------------------------------------------------------------------\u001b[0m",
      "\u001b[0;31mFileExistsError\u001b[0m                           Traceback (most recent call last)",
      "\u001b[0;32m<ipython-input-3-81f4d74d2b4d>\u001b[0m in \u001b[0;36m<module>\u001b[0;34m()\u001b[0m\n\u001b[1;32m      1\u001b[0m \u001b[0mline\u001b[0m \u001b[0;34m=\u001b[0m \u001b[0;34m\"~~~~~~~~~~~~~~~~~~~~~~~~~~~~~~~~~~~~~~~~\"\u001b[0m\u001b[0;34m\u001b[0m\u001b[0m\n\u001b[0;32m----> 2\u001b[0;31m \u001b[0mpfile\u001b[0m \u001b[0;34m=\u001b[0m \u001b[0mopen\u001b[0m\u001b[0;34m(\u001b[0m\u001b[0;34m\"poem.txt\"\u001b[0m\u001b[0;34m,\u001b[0m\u001b[0;34m\"xt\"\u001b[0m\u001b[0;34m)\u001b[0m \u001b[0;31m# x模式可以避免覆寫\u001b[0m\u001b[0;34m\u001b[0m\u001b[0m\n\u001b[0m\u001b[1;32m      3\u001b[0m \u001b[0mpfile\u001b[0m\u001b[0;34m.\u001b[0m\u001b[0mwrite\u001b[0m\u001b[0;34m(\u001b[0m\u001b[0mtext2\u001b[0m\u001b[0;34m)\u001b[0m\u001b[0;34m\u001b[0m\u001b[0m\n\u001b[1;32m      4\u001b[0m \u001b[0mpfile\u001b[0m\u001b[0;34m.\u001b[0m\u001b[0mclose\u001b[0m\u001b[0;34m(\u001b[0m\u001b[0;34m)\u001b[0m\u001b[0;34m\u001b[0m\u001b[0m\n",
      "\u001b[0;31mFileExistsError\u001b[0m: [Errno 17] File exists: 'poem.txt'"
     ]
    }
   ],
   "source": [
    "line = \"~~~~~~~~~~~~~~~~~~~~~~~~~~~~~~~~~~~~~~~~\"\n",
    "pfile = open(\"poem.txt\",\"xt\") # x模式可以避免覆寫\n",
    "pfile.write(text2)\n",
    "pfile.close() "
   ]
  },
  {
   "cell_type": "markdown",
   "metadata": {},
   "source": [
    "# 如果來源字串很大，也可以分段寫入，直到完成為止。"
   ]
  },
  {
   "cell_type": "code",
   "execution_count": 4,
   "metadata": {
    "collapsed": true
   },
   "outputs": [],
   "source": [
    "text3 = \"\"\"晉太元中，武陵人，捕魚為業。緣溪行，忘路之遠近。忽逢桃花林，夾岸數百步，中無雜樹，芳草鮮美，落英繽紛。\n",
    "漁人甚異之。復前行，欲窮其林。林盡水源，便得一山。山有小口，彷彿若有光。便舍船，從口入。初極狹，纔通人。\n",
    "復行數十步，豁然開朗。土地平曠，屋舍儼然，有良田、美池、桑、竹之屬。阡陌交通，雞犬相聞。\n",
    "其中往來種作，男女衣著，悉如外人；黃髮、垂髫，並怡然自樂。\"\"\"\n",
    "fout = open(\"poem.txt\",\"wt\")\n",
    "offset = 0\n",
    "chunk = 30\n",
    "while True:\n",
    "    if offset > len(text3):\n",
    "        break\n",
    "    fout.write(text3[offset:offset+chunk])\n",
    "    offset += chunk\n",
    "fout.close()"
   ]
  },
  {
   "cell_type": "markdown",
   "metadata": {},
   "source": [
    "# 用 read()、readline()、readlines()來讀取文字檔"
   ]
  },
  {
   "cell_type": "code",
   "execution_count": 5,
   "metadata": {
    "collapsed": false
   },
   "outputs": [
    {
     "name": "stdout",
     "output_type": "stream",
     "text": [
      "晉太元中，武陵人，捕魚為業。緣溪行，忘路之遠近。忽逢桃花林，夾岸數百步，中無雜樹，芳草鮮美，落英繽紛。\n",
      "漁人甚異之。復前行，欲窮其林。林盡水源，便得一山。山有小口，彷彿若有光。便舍船，從口入。初極狹，纔通人。\n",
      "復行數十步，豁然開朗。土地平曠，屋舍儼然，有良田、美池、桑、竹之屬。阡陌交通，雞犬相聞。\n",
      "其中往來種作，男女衣著，悉如外人；黃髮、垂髫，並怡然自樂。\n"
     ]
    }
   ],
   "source": [
    "fin = open(\"poem.txt\", \"rt\")\n",
    "text = fin.read() # read()不傳入任何引數時，一次取出整個檔案\n",
    "fin.close()\n",
    "print(text)"
   ]
  },
  {
   "cell_type": "code",
   "execution_count": 6,
   "metadata": {
    "collapsed": false
   },
   "outputs": [
    {
     "name": "stdout",
     "output_type": "stream",
     "text": [
      "Line: 晉太元中，武陵人，捕魚為業。緣溪行，忘路之遠近。忽逢桃花林，夾岸數百步，中無雜樹，芳草鮮美，落英繽紛。\n",
      "\n",
      "晉太元中，武陵人，捕魚為業。緣溪行，忘路之遠近。忽逢桃花林，夾岸數百步，中無雜樹，芳草鮮美，落英繽紛。\n",
      "\n",
      "Line: 漁人甚異之。復前行，欲窮其林。林盡水源，便得一山。山有小口，彷彿若有光。便舍船，從口入。初極狹，纔通人。\n",
      "\n",
      "晉太元中，武陵人，捕魚為業。緣溪行，忘路之遠近。忽逢桃花林，夾岸數百步，中無雜樹，芳草鮮美，落英繽紛。\n",
      "漁人甚異之。復前行，欲窮其林。林盡水源，便得一山。山有小口，彷彿若有光。便舍船，從口入。初極狹，纔通人。\n",
      "\n",
      "Line: 復行數十步，豁然開朗。土地平曠，屋舍儼然，有良田、美池、桑、竹之屬。阡陌交通，雞犬相聞。\n",
      "\n",
      "晉太元中，武陵人，捕魚為業。緣溪行，忘路之遠近。忽逢桃花林，夾岸數百步，中無雜樹，芳草鮮美，落英繽紛。\n",
      "漁人甚異之。復前行，欲窮其林。林盡水源，便得一山。山有小口，彷彿若有光。便舍船，從口入。初極狹，纔通人。\n",
      "復行數十步，豁然開朗。土地平曠，屋舍儼然，有良田、美池、桑、竹之屬。阡陌交通，雞犬相聞。\n",
      "\n",
      "Line: 其中往來種作，男女衣著，悉如外人；黃髮、垂髫，並怡然自樂。\n",
      "晉太元中，武陵人，捕魚為業。緣溪行，忘路之遠近。忽逢桃花林，夾岸數百步，中無雜樹，芳草鮮美，落英繽紛。\n",
      "漁人甚異之。復前行，欲窮其林。林盡水源，便得一山。山有小口，彷彿若有光。便舍船，從口入。初極狹，纔通人。\n",
      "復行數十步，豁然開朗。土地平曠，屋舍儼然，有良田、美池、桑、竹之屬。阡陌交通，雞犬相聞。\n",
      "其中往來種作，男女衣著，悉如外人；黃髮、垂髫，並怡然自樂。\n"
     ]
    }
   ],
   "source": [
    "poem = \"\"\n",
    "fin = open(\"poem.txt\", \"rt\")\n",
    "while True:\n",
    "    line = fin.readline() # readline() 一次讀取一行\n",
    "    if not line:\n",
    "        break\n",
    "    print(\"Line:\", line)\n",
    "    poem +=line\n",
    "    print(poem)\n",
    "fin.close()"
   ]
  },
  {
   "cell_type": "code",
   "execution_count": 7,
   "metadata": {
    "collapsed": false
   },
   "outputs": [
    {
     "name": "stdout",
     "output_type": "stream",
     "text": [
      "晉太元中，武陵人，捕魚為業。緣溪行，忘路之遠近。忽逢桃花林，夾岸數百步，中無雜樹，芳草鮮美，落英繽紛。\n",
      "\n",
      "漁人甚異之。復前行，欲窮其林。林盡水源，便得一山。山有小口，彷彿若有光。便舍船，從口入。初極狹，纔通人。\n",
      "\n",
      "復行數十步，豁然開朗。土地平曠，屋舍儼然，有良田、美池、桑、竹之屬。阡陌交通，雞犬相聞。\n",
      "\n",
      "其中往來種作，男女衣著，悉如外人；黃髮、垂髫，並怡然自樂。\n"
     ]
    }
   ],
   "source": [
    "fin = open(\"poem.txt\", \"rt\")\n",
    "lines = fin.readlines() # readlines()呼叫式會每次傳入一行，並回傳一串單行字串。\n",
    "fin.close()\n",
    "for line in lines:\n",
    "    print(line)"
   ]
  },
  {
   "cell_type": "markdown",
   "metadata": {
    "collapsed": true
   },
   "source": [
    "# 用 with 來自動關閉檔案: expression as variable 格式\n",
    "# Python 具有清除已開啟檔案等的環境管理器(context managers)，管理器下方的程式段落完成之後，檔案會被自動關閉。"
   ]
  },
  {
   "cell_type": "code",
   "execution_count": 8,
   "metadata": {
    "collapsed": false
   },
   "outputs": [
    {
     "name": "stdout",
     "output_type": "stream",
     "text": [
      "['晉太元中，武陵人，捕魚為業。緣溪行，忘路之遠近。忽逢桃花林，夾岸數百步，中無雜樹，芳草鮮美，落英繽紛。\\n', '漁人甚異之。復前行，欲窮其林。林盡水源，便得一山。山有小口，彷彿若有光。便舍船，從口入。初極狹，纔通人。\\n', '復行數十步，豁然開朗。土地平曠，屋舍儼然，有良田、美池、桑、竹之屬。阡陌交通，雞犬相聞。\\n', '其中往來種作，男女衣著，悉如外人；黃髮、垂髫，並怡然自樂。']\n"
     ]
    }
   ],
   "source": [
    "with open(\"poem.txt\", \"rt\") as fin:\n",
    "    lines = fin.readlines()\n",
    "    print(lines)"
   ]
  },
  {
   "cell_type": "markdown",
   "metadata": {},
   "source": [
    "# 用 tell()回傳位置、seek()來更改位置，以byte為單位"
   ]
  },
  {
   "cell_type": "code",
   "execution_count": 9,
   "metadata": {
    "collapsed": false
   },
   "outputs": [
    {
     "data": {
      "text/plain": [
       "0"
      ]
     },
     "execution_count": 9,
     "metadata": {},
     "output_type": "execute_result"
    }
   ],
   "source": [
    "fin = open(\"poem.txt\", \"rt\")\n",
    "fin.tell()"
   ]
  },
  {
   "cell_type": "code",
   "execution_count": 10,
   "metadata": {
    "collapsed": false
   },
   "outputs": [
    {
     "name": "stdout",
     "output_type": "stream",
     "text": [
      "捕魚為業。緣溪行，忘路之遠近。忽逢桃花林，夾岸數百步，中無雜樹，芳草鮮美，落英繽紛。\n",
      "漁人甚異之。復前行，欲窮其林。林盡水源，便得一山。山有小口，彷彿若有光。便舍船，從口入。初極狹，纔通人。\n",
      "復行數十步，豁然開朗。土地平曠，屋舍儼然，有良田、美池、桑、竹之屬。阡陌交通，雞犬相聞。\n",
      "其中往來種作，男女衣著，悉如外人；黃髮、垂髫，並怡然自樂。\n"
     ]
    }
   ],
   "source": [
    "fin.seek(27) #UTF-8 每個字佔 3 bytes\n",
    "text = fin.read()\n",
    "print(text)"
   ]
  },
  {
   "cell_type": "markdown",
   "metadata": {
    "collapsed": true
   },
   "source": [
    "# 文字檔結構"
   ]
  },
  {
   "cell_type": "markdown",
   "metadata": {
    "collapsed": true
   },
   "source": [
    "# 可用的格式很多，分辨方式如下：\n",
    "# 分隔符號：常見的有逗號分格值(CSV)格式\n",
    "# 標籤外面的“<”與“>”:常見的有XML與HTML格式\n",
    "# 標點符號：JSON(JavaScript Object Notation)"
   ]
  },
  {
   "cell_type": "markdown",
   "metadata": {},
   "source": [
    "# CSV：試算表與資料庫通常會使用帶分隔符號的檔案作為交換格式"
   ]
  },
  {
   "cell_type": "code",
   "execution_count": 11,
   "metadata": {
    "collapsed": false
   },
   "outputs": [
    {
     "name": "stdout",
     "output_type": "stream",
     "text": [
      "[['$30', ' 火腿蛋土司'], ['$45', ' 豬排漢堡'], ['$40', ' 陽春麵'], ['$60', ' 炒飯'], ['$80', ' 義大利麵'], ['$100', ' 雞腿飯']]\n"
     ]
    }
   ],
   "source": [
    "import csv\n",
    "with open(\"menu.csv\", \"rt\") as fcsv:\n",
    "    cin = csv.reader(fcsv) # reader()/writer() 預設選項是欄位會以逗號分隔，列會以換行分隔\n",
    "    line = [row for row in cin]\n",
    "print(line)"
   ]
  },
  {
   "cell_type": "code",
   "execution_count": 12,
   "metadata": {
    "collapsed": false
   },
   "outputs": [
    {
     "name": "stdout",
     "output_type": "stream",
     "text": [
      "[OrderedDict([('價格', '$30'), ('品項', ' 火腿蛋土司')]), OrderedDict([('價格', '$45'), ('品項', ' 豬排漢堡')]), OrderedDict([('價格', '$40'), ('品項', ' 陽春麵')]), OrderedDict([('價格', '$60'), ('品項', ' 炒飯')]), OrderedDict([('價格', '$80'), ('品項', ' 義大利麵')]), OrderedDict([('價格', '$100'), ('品項', ' 雞腿飯')])]\n"
     ]
    }
   ],
   "source": [
    "# 用 DictReader() 函式指定欄位名稱。用DictWriter()函式重寫csv檔。用writeheader()寫入開頭欄位名稱。\n",
    "import csv\n",
    "with open(\"menu.csv\", \"rt\") as fcsv:\n",
    "    cin = csv.DictReader(fcsv, fieldnames=[\"價格\",\"品項\"])\n",
    "    line = [row for row in cin]\n",
    "print(line)"
   ]
  },
  {
   "cell_type": "markdown",
   "metadata": {},
   "source": [
    "# XML：用標籤來劃分資料\n",
    "# 將階層、序列、集合、與其結構編碼成文字，適用的標記格式\n"
   ]
  },
  {
   "cell_type": "code",
   "execution_count": 13,
   "metadata": {
    "collapsed": false
   },
   "outputs": [
    {
     "name": "stdout",
     "output_type": "stream",
     "text": [
      "tag: breakfast attributes: {'hours': '7-11'}\n",
      "\ttag: item attributes: {'price': '$30'}\n",
      "\ttag: item attributes: {'price': '$45'}\n",
      "tag: lunch attributes: {'hours': '11-3'}\n",
      "\ttag: item attributes: {'price': '$40'}\n",
      "\ttag: item attributes: {'price': '$60'}\n",
      "tag: dinner attributes: {'hours': '3-10'}\n",
      "\ttag: item attributes: {'price': '$80'}\n",
      "\ttag: item attributes: {'price': '$100'}\n"
     ]
    }
   ],
   "source": [
    "import xml.etree.ElementTree as et\n",
    "tree = et.ElementTree(file=\"menu.xml\")\n",
    "root = tree.getroot()\n",
    "for child in root:\n",
    "    print(\"tag:\", child.tag, \"attributes:\", child.attrib)\n",
    "    for grandchild in child:\n",
    "        print(\"\\ttag:\", grandchild.tag, \"attributes:\", grandchild.attrib)"
   ]
  },
  {
   "cell_type": "markdown",
   "metadata": {},
   "source": [
    "# JSON：JavaScirpt的子集，非常受歡迎的資料交換格式 "
   ]
  },
  {
   "cell_type": "code",
   "execution_count": 14,
   "metadata": {
    "collapsed": false
   },
   "outputs": [
    {
     "name": "stdout",
     "output_type": "stream",
     "text": [
      "menu=\n",
      "{\n",
      "\"breakfast\":{\n",
      "\t\t\t\t\"hours\":\"7-11\",\n",
      "\t\t\t\t\"items\":{\n",
      "\t\t\t\t\t\t\t\t\"火腿蛋土司\": \"$30\",\n",
      "\t\t\t\t\t\t\t\t\"豬排漢堡\": \"$45\"\n",
      "\t\t\t\t\t\t\t\t}\n",
      "\t\t\t\t\n",
      "\t\t\t\t},\n",
      "\"lunch\":{\n",
      "\t\t\t\t\"hours\":\"11-3\",\n",
      "\t\t\t\t\"items\":{\n",
      "\t\t\t\t\t\t\t\t\"陽春麵\": \"$40\",\n",
      "\t\t\t\t\t\t\t\t\"炒飯\": \"$60\"\n",
      "\t\t\t\t\t\t\t\t}\n",
      "\t\t\t\t\n",
      "\t\t\t\t},\n",
      "\"dinner\":{\n",
      "\t\t\t\t\"hours\":\"3-10\",\n",
      "\t\t\t\t\"items\":{\n",
      "\t\t\t\t\t\t\t\t\"義大利麵\": \"$80\",\n",
      "\t\t\t\t\t\t\t\t\"雞腿飯\": \"$100\"\n",
      "\t\t\t\t\t\t\t\t}\n",
      "\t\t\t\t\n",
      "\t\t\t\t},\n",
      "}\n"
     ]
    }
   ],
   "source": [
    "import json\n",
    "with open(\"menu.json\",\"rt\") as fin:\n",
    "    menu = fin.read()\n",
    "    menu_json = json.dumps(menu) # dump()編碼成JSON字串\n",
    "    menu2 = json.loads(menu_json) # loads()將JSON字串轉回Python資料結構\n",
    "print(menu2)"
   ]
  }
 ],
 "metadata": {
  "kernelspec": {
   "display_name": "Python [Root]",
   "language": "python",
   "name": "Python [Root]"
  },
  "language_info": {
   "codemirror_mode": {
    "name": "ipython",
    "version": 3
   },
   "file_extension": ".py",
   "mimetype": "text/x-python",
   "name": "python",
   "nbconvert_exporter": "python",
   "pygments_lexer": "ipython3",
   "version": "3.5.2"
  }
 },
 "nbformat": 4,
 "nbformat_minor": 2
}
